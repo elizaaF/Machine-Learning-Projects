{
 "cells": [
  {
   "cell_type": "code",
   "execution_count": 1,
   "id": "ea337c72",
   "metadata": {},
   "outputs": [],
   "source": [
    "import pandas as pd\n",
    "import numpy as np\n",
    "import matplotlib.pyplot as plt\n",
    "import seaborn as sns\n",
    "from sklearn.model_selection import GridSearchCV, train_test_split, KFold, cross_val_score\n",
    "from sklearn.preprocessing import OneHotEncoder, StandardScaler, MinMaxScaler\n",
    "from sklearn.metrics import r2_score, mean_squared_error, accuracy_score, mean_absolute_error, mean_squared_error\n",
    "from sklearn.ensemble import GradientBoostingRegressor\n",
    "from sklearn.neural_network import MLPRegressor\n",
    "from sklearn.svm import SVR\n",
    "from sklearn.neighbors import KNeighborsRegressor\n",
    "from sklearn.tree import DecisionTreeRegressor \n",
    "from sklearn.cross_decomposition import PLSRegression\n",
    "%matplotlib inline\n"
   ]
  },
  {
   "cell_type": "code",
   "execution_count": 2,
   "id": "0a6bc2b6",
   "metadata": {},
   "outputs": [
    {
     "name": "stdout",
     "output_type": "stream",
     "text": [
      "          Make       Model  Year                Engine Fuel Type  Engine HP  \\\n",
      "0          BMW  1 Series M  2011     premium unleaded (required)      335.0   \n",
      "1          BMW    1 Series  2011     premium unleaded (required)      300.0   \n",
      "2          BMW    1 Series  2011     premium unleaded (required)      300.0   \n",
      "3          BMW    1 Series  2011     premium unleaded (required)      230.0   \n",
      "4          BMW    1 Series  2011     premium unleaded (required)      230.0   \n",
      "...        ...         ...   ...                             ...        ...   \n",
      "11909    Acura         ZDX  2012     premium unleaded (required)      300.0   \n",
      "11910    Acura         ZDX  2012     premium unleaded (required)      300.0   \n",
      "11911    Acura         ZDX  2012     premium unleaded (required)      300.0   \n",
      "11912    Acura         ZDX  2013  premium unleaded (recommended)      300.0   \n",
      "11913  Lincoln      Zephyr  2006                regular unleaded      221.0   \n",
      "\n",
      "       Engine Cylinders Transmission Type      Driven_Wheels  Number of Doors  \\\n",
      "0                   6.0            MANUAL   rear wheel drive              2.0   \n",
      "1                   6.0            MANUAL   rear wheel drive              2.0   \n",
      "2                   6.0            MANUAL   rear wheel drive              2.0   \n",
      "3                   6.0            MANUAL   rear wheel drive              2.0   \n",
      "4                   6.0            MANUAL   rear wheel drive              2.0   \n",
      "...                 ...               ...                ...              ...   \n",
      "11909               6.0         AUTOMATIC    all wheel drive              4.0   \n",
      "11910               6.0         AUTOMATIC    all wheel drive              4.0   \n",
      "11911               6.0         AUTOMATIC    all wheel drive              4.0   \n",
      "11912               6.0         AUTOMATIC    all wheel drive              4.0   \n",
      "11913               6.0         AUTOMATIC  front wheel drive              4.0   \n",
      "\n",
      "                             Market Category Vehicle Size  Vehicle Style  \\\n",
      "0      Factory Tuner,Luxury,High-Performance      Compact          Coupe   \n",
      "1                         Luxury,Performance      Compact    Convertible   \n",
      "2                    Luxury,High-Performance      Compact          Coupe   \n",
      "3                         Luxury,Performance      Compact          Coupe   \n",
      "4                                     Luxury      Compact    Convertible   \n",
      "...                                      ...          ...            ...   \n",
      "11909             Crossover,Hatchback,Luxury      Midsize  4dr Hatchback   \n",
      "11910             Crossover,Hatchback,Luxury      Midsize  4dr Hatchback   \n",
      "11911             Crossover,Hatchback,Luxury      Midsize  4dr Hatchback   \n",
      "11912             Crossover,Hatchback,Luxury      Midsize  4dr Hatchback   \n",
      "11913                                 Luxury      Midsize          Sedan   \n",
      "\n",
      "       highway MPG  city mpg  Popularity   MSRP  \n",
      "0               26        19        3916  46135  \n",
      "1               28        19        3916  40650  \n",
      "2               28        20        3916  36350  \n",
      "3               28        18        3916  29450  \n",
      "4               28        18        3916  34500  \n",
      "...            ...       ...         ...    ...  \n",
      "11909           23        16         204  46120  \n",
      "11910           23        16         204  56670  \n",
      "11911           23        16         204  50620  \n",
      "11912           23        16         204  50920  \n",
      "11913           26        17          61  28995  \n",
      "\n",
      "[11914 rows x 16 columns]\n"
     ]
    }
   ],
   "source": [
    "df = pd.read_csv('data.csv')\n",
    "print(df)"
   ]
  },
  {
   "cell_type": "code",
   "execution_count": 3,
   "id": "17302919",
   "metadata": {},
   "outputs": [
    {
     "data": {
      "text/plain": [
       "(11914, 16)"
      ]
     },
     "execution_count": 3,
     "metadata": {},
     "output_type": "execute_result"
    }
   ],
   "source": [
    "\n",
    "df.shape"
   ]
  },
  {
   "cell_type": "code",
   "execution_count": 4,
   "id": "af505dbc",
   "metadata": {},
   "outputs": [
    {
     "data": {
      "text/html": [
       "<div>\n",
       "<style scoped>\n",
       "    .dataframe tbody tr th:only-of-type {\n",
       "        vertical-align: middle;\n",
       "    }\n",
       "\n",
       "    .dataframe tbody tr th {\n",
       "        vertical-align: top;\n",
       "    }\n",
       "\n",
       "    .dataframe thead th {\n",
       "        text-align: right;\n",
       "    }\n",
       "</style>\n",
       "<table border=\"1\" class=\"dataframe\">\n",
       "  <thead>\n",
       "    <tr style=\"text-align: right;\">\n",
       "      <th></th>\n",
       "      <th>Make</th>\n",
       "      <th>Model</th>\n",
       "      <th>Year</th>\n",
       "      <th>Engine Fuel Type</th>\n",
       "      <th>Engine HP</th>\n",
       "      <th>Engine Cylinders</th>\n",
       "      <th>Transmission Type</th>\n",
       "      <th>Driven_Wheels</th>\n",
       "      <th>Number of Doors</th>\n",
       "      <th>Market Category</th>\n",
       "      <th>Vehicle Size</th>\n",
       "      <th>Vehicle Style</th>\n",
       "      <th>highway MPG</th>\n",
       "      <th>city mpg</th>\n",
       "      <th>Popularity</th>\n",
       "      <th>MSRP</th>\n",
       "    </tr>\n",
       "  </thead>\n",
       "  <tbody>\n",
       "    <tr>\n",
       "      <th>0</th>\n",
       "      <td>BMW</td>\n",
       "      <td>1 Series M</td>\n",
       "      <td>2011</td>\n",
       "      <td>premium unleaded (required)</td>\n",
       "      <td>335.0</td>\n",
       "      <td>6.0</td>\n",
       "      <td>MANUAL</td>\n",
       "      <td>rear wheel drive</td>\n",
       "      <td>2.0</td>\n",
       "      <td>Factory Tuner,Luxury,High-Performance</td>\n",
       "      <td>Compact</td>\n",
       "      <td>Coupe</td>\n",
       "      <td>26</td>\n",
       "      <td>19</td>\n",
       "      <td>3916</td>\n",
       "      <td>46135</td>\n",
       "    </tr>\n",
       "    <tr>\n",
       "      <th>1</th>\n",
       "      <td>BMW</td>\n",
       "      <td>1 Series</td>\n",
       "      <td>2011</td>\n",
       "      <td>premium unleaded (required)</td>\n",
       "      <td>300.0</td>\n",
       "      <td>6.0</td>\n",
       "      <td>MANUAL</td>\n",
       "      <td>rear wheel drive</td>\n",
       "      <td>2.0</td>\n",
       "      <td>Luxury,Performance</td>\n",
       "      <td>Compact</td>\n",
       "      <td>Convertible</td>\n",
       "      <td>28</td>\n",
       "      <td>19</td>\n",
       "      <td>3916</td>\n",
       "      <td>40650</td>\n",
       "    </tr>\n",
       "    <tr>\n",
       "      <th>2</th>\n",
       "      <td>BMW</td>\n",
       "      <td>1 Series</td>\n",
       "      <td>2011</td>\n",
       "      <td>premium unleaded (required)</td>\n",
       "      <td>300.0</td>\n",
       "      <td>6.0</td>\n",
       "      <td>MANUAL</td>\n",
       "      <td>rear wheel drive</td>\n",
       "      <td>2.0</td>\n",
       "      <td>Luxury,High-Performance</td>\n",
       "      <td>Compact</td>\n",
       "      <td>Coupe</td>\n",
       "      <td>28</td>\n",
       "      <td>20</td>\n",
       "      <td>3916</td>\n",
       "      <td>36350</td>\n",
       "    </tr>\n",
       "    <tr>\n",
       "      <th>3</th>\n",
       "      <td>BMW</td>\n",
       "      <td>1 Series</td>\n",
       "      <td>2011</td>\n",
       "      <td>premium unleaded (required)</td>\n",
       "      <td>230.0</td>\n",
       "      <td>6.0</td>\n",
       "      <td>MANUAL</td>\n",
       "      <td>rear wheel drive</td>\n",
       "      <td>2.0</td>\n",
       "      <td>Luxury,Performance</td>\n",
       "      <td>Compact</td>\n",
       "      <td>Coupe</td>\n",
       "      <td>28</td>\n",
       "      <td>18</td>\n",
       "      <td>3916</td>\n",
       "      <td>29450</td>\n",
       "    </tr>\n",
       "    <tr>\n",
       "      <th>4</th>\n",
       "      <td>BMW</td>\n",
       "      <td>1 Series</td>\n",
       "      <td>2011</td>\n",
       "      <td>premium unleaded (required)</td>\n",
       "      <td>230.0</td>\n",
       "      <td>6.0</td>\n",
       "      <td>MANUAL</td>\n",
       "      <td>rear wheel drive</td>\n",
       "      <td>2.0</td>\n",
       "      <td>Luxury</td>\n",
       "      <td>Compact</td>\n",
       "      <td>Convertible</td>\n",
       "      <td>28</td>\n",
       "      <td>18</td>\n",
       "      <td>3916</td>\n",
       "      <td>34500</td>\n",
       "    </tr>\n",
       "    <tr>\n",
       "      <th>5</th>\n",
       "      <td>BMW</td>\n",
       "      <td>1 Series</td>\n",
       "      <td>2012</td>\n",
       "      <td>premium unleaded (required)</td>\n",
       "      <td>230.0</td>\n",
       "      <td>6.0</td>\n",
       "      <td>MANUAL</td>\n",
       "      <td>rear wheel drive</td>\n",
       "      <td>2.0</td>\n",
       "      <td>Luxury,Performance</td>\n",
       "      <td>Compact</td>\n",
       "      <td>Coupe</td>\n",
       "      <td>28</td>\n",
       "      <td>18</td>\n",
       "      <td>3916</td>\n",
       "      <td>31200</td>\n",
       "    </tr>\n",
       "    <tr>\n",
       "      <th>6</th>\n",
       "      <td>BMW</td>\n",
       "      <td>1 Series</td>\n",
       "      <td>2012</td>\n",
       "      <td>premium unleaded (required)</td>\n",
       "      <td>300.0</td>\n",
       "      <td>6.0</td>\n",
       "      <td>MANUAL</td>\n",
       "      <td>rear wheel drive</td>\n",
       "      <td>2.0</td>\n",
       "      <td>Luxury,Performance</td>\n",
       "      <td>Compact</td>\n",
       "      <td>Convertible</td>\n",
       "      <td>26</td>\n",
       "      <td>17</td>\n",
       "      <td>3916</td>\n",
       "      <td>44100</td>\n",
       "    </tr>\n",
       "    <tr>\n",
       "      <th>7</th>\n",
       "      <td>BMW</td>\n",
       "      <td>1 Series</td>\n",
       "      <td>2012</td>\n",
       "      <td>premium unleaded (required)</td>\n",
       "      <td>300.0</td>\n",
       "      <td>6.0</td>\n",
       "      <td>MANUAL</td>\n",
       "      <td>rear wheel drive</td>\n",
       "      <td>2.0</td>\n",
       "      <td>Luxury,High-Performance</td>\n",
       "      <td>Compact</td>\n",
       "      <td>Coupe</td>\n",
       "      <td>28</td>\n",
       "      <td>20</td>\n",
       "      <td>3916</td>\n",
       "      <td>39300</td>\n",
       "    </tr>\n",
       "    <tr>\n",
       "      <th>8</th>\n",
       "      <td>BMW</td>\n",
       "      <td>1 Series</td>\n",
       "      <td>2012</td>\n",
       "      <td>premium unleaded (required)</td>\n",
       "      <td>230.0</td>\n",
       "      <td>6.0</td>\n",
       "      <td>MANUAL</td>\n",
       "      <td>rear wheel drive</td>\n",
       "      <td>2.0</td>\n",
       "      <td>Luxury</td>\n",
       "      <td>Compact</td>\n",
       "      <td>Convertible</td>\n",
       "      <td>28</td>\n",
       "      <td>18</td>\n",
       "      <td>3916</td>\n",
       "      <td>36900</td>\n",
       "    </tr>\n",
       "    <tr>\n",
       "      <th>9</th>\n",
       "      <td>BMW</td>\n",
       "      <td>1 Series</td>\n",
       "      <td>2013</td>\n",
       "      <td>premium unleaded (required)</td>\n",
       "      <td>230.0</td>\n",
       "      <td>6.0</td>\n",
       "      <td>MANUAL</td>\n",
       "      <td>rear wheel drive</td>\n",
       "      <td>2.0</td>\n",
       "      <td>Luxury</td>\n",
       "      <td>Compact</td>\n",
       "      <td>Convertible</td>\n",
       "      <td>27</td>\n",
       "      <td>18</td>\n",
       "      <td>3916</td>\n",
       "      <td>37200</td>\n",
       "    </tr>\n",
       "  </tbody>\n",
       "</table>\n",
       "</div>"
      ],
      "text/plain": [
       "  Make       Model  Year             Engine Fuel Type  Engine HP  \\\n",
       "0  BMW  1 Series M  2011  premium unleaded (required)      335.0   \n",
       "1  BMW    1 Series  2011  premium unleaded (required)      300.0   \n",
       "2  BMW    1 Series  2011  premium unleaded (required)      300.0   \n",
       "3  BMW    1 Series  2011  premium unleaded (required)      230.0   \n",
       "4  BMW    1 Series  2011  premium unleaded (required)      230.0   \n",
       "5  BMW    1 Series  2012  premium unleaded (required)      230.0   \n",
       "6  BMW    1 Series  2012  premium unleaded (required)      300.0   \n",
       "7  BMW    1 Series  2012  premium unleaded (required)      300.0   \n",
       "8  BMW    1 Series  2012  premium unleaded (required)      230.0   \n",
       "9  BMW    1 Series  2013  premium unleaded (required)      230.0   \n",
       "\n",
       "   Engine Cylinders Transmission Type     Driven_Wheels  Number of Doors  \\\n",
       "0               6.0            MANUAL  rear wheel drive              2.0   \n",
       "1               6.0            MANUAL  rear wheel drive              2.0   \n",
       "2               6.0            MANUAL  rear wheel drive              2.0   \n",
       "3               6.0            MANUAL  rear wheel drive              2.0   \n",
       "4               6.0            MANUAL  rear wheel drive              2.0   \n",
       "5               6.0            MANUAL  rear wheel drive              2.0   \n",
       "6               6.0            MANUAL  rear wheel drive              2.0   \n",
       "7               6.0            MANUAL  rear wheel drive              2.0   \n",
       "8               6.0            MANUAL  rear wheel drive              2.0   \n",
       "9               6.0            MANUAL  rear wheel drive              2.0   \n",
       "\n",
       "                         Market Category Vehicle Size Vehicle Style  \\\n",
       "0  Factory Tuner,Luxury,High-Performance      Compact         Coupe   \n",
       "1                     Luxury,Performance      Compact   Convertible   \n",
       "2                Luxury,High-Performance      Compact         Coupe   \n",
       "3                     Luxury,Performance      Compact         Coupe   \n",
       "4                                 Luxury      Compact   Convertible   \n",
       "5                     Luxury,Performance      Compact         Coupe   \n",
       "6                     Luxury,Performance      Compact   Convertible   \n",
       "7                Luxury,High-Performance      Compact         Coupe   \n",
       "8                                 Luxury      Compact   Convertible   \n",
       "9                                 Luxury      Compact   Convertible   \n",
       "\n",
       "   highway MPG  city mpg  Popularity   MSRP  \n",
       "0           26        19        3916  46135  \n",
       "1           28        19        3916  40650  \n",
       "2           28        20        3916  36350  \n",
       "3           28        18        3916  29450  \n",
       "4           28        18        3916  34500  \n",
       "5           28        18        3916  31200  \n",
       "6           26        17        3916  44100  \n",
       "7           28        20        3916  39300  \n",
       "8           28        18        3916  36900  \n",
       "9           27        18        3916  37200  "
      ]
     },
     "execution_count": 4,
     "metadata": {},
     "output_type": "execute_result"
    }
   ],
   "source": [
    "df.head(10)"
   ]
  },
  {
   "cell_type": "code",
   "execution_count": 5,
   "id": "4d9a0f6e",
   "metadata": {},
   "outputs": [
    {
     "data": {
      "image/png": "[encoded data removed]",
      "text/plain": [
       "<Figure size 1440x1080 with 1 Axes>"
      ]
     },
     "metadata": {
      "needs_background": "light"
     },
     "output_type": "display_data"
    }
   ],
   "source": [
    "plt.figure(figsize=(20,15))\n",
    "sns.countplot(y = df.Make)\n",
    "plt.title('car companies with their car', fontsize=20)\n",
    "plt.show()"
   ]
  },
  {
   "cell_type": "code",
   "execution_count": 6,
   "id": "7410ee39",
   "metadata": {},
   "outputs": [
    {
     "name": "stderr",
     "output_type": "stream",
     "text": [
      "C:\\Users\\IRDA\\anaconda3\\lib\\site-packages\\seaborn\\_decorators.py:36: FutureWarning: Pass the following variable as a keyword arg: x. From version 0.12, the only valid positional argument will be `data`, and passing other arguments without an explicit keyword will result in an error or misinterpretation.\n",
      "  warnings.warn(\n"
     ]
    },
    {
     "data": {
      "image/png": "[encoded data removed]",
      "text/plain": [
       "<Figure size 1440x1080 with 1 Axes>"
      ]
     },
     "metadata": {
      "needs_background": "light"
     },
     "output_type": "display_data"
    }
   ],
   "source": [
    "plt.figure(figsize=(20,15))\n",
    "sns.countplot(df.Year, palette='viridis')\n",
    "plt.title('number of cars in different years, fontsize=20')\n",
    "plt.show()"
   ]
  },
  {
   "cell_type": "code",
   "execution_count": 7,
   "id": "6d0952a4",
   "metadata": {},
   "outputs": [
    {
     "name": "stderr",
     "output_type": "stream",
     "text": [
      "C:\\Users\\IRDA\\anaconda3\\lib\\site-packages\\seaborn\\_decorators.py:36: FutureWarning: Pass the following variable as a keyword arg: x. From version 0.12, the only valid positional argument will be `data`, and passing other arguments without an explicit keyword will result in an error or misinterpretation.\n",
      "  warnings.warn(\n"
     ]
    },
    {
     "data": {
      "image/png": "[encoded data removed]",
      "text/plain": [
       "<Figure size 1440x1080 with 1 Axes>"
      ]
     },
     "metadata": {
      "needs_background": "light"
     },
     "output_type": "display_data"
    }
   ],
   "source": [
    "plt.figure(figsize=(20,15))\n",
    "sns.countplot(df['Transmission Type'], palette= 'Paired')\n",
    "plt.title('number of cars based on transmission type, fontsize=20')\n",
    "plt.show()"
   ]
  },
  {
   "cell_type": "code",
   "execution_count": null,
   "id": "209a9021",
   "metadata": {},
   "outputs": [],
   "source": []
  },
  {
   "cell_type": "code",
   "execution_count": 8,
   "id": "99e9c887",
   "metadata": {},
   "outputs": [
    {
     "data": {
      "text/plain": [
       "Make                   48\n",
       "Model                 915\n",
       "Year                   28\n",
       "Engine Fuel Type       10\n",
       "Engine HP             356\n",
       "Engine Cylinders        9\n",
       "Transmission Type       5\n",
       "Driven_Wheels           4\n",
       "Number of Doors         3\n",
       "Market Category        71\n",
       "Vehicle Size            3\n",
       "Vehicle Style          16\n",
       "highway MPG            59\n",
       "city mpg               69\n",
       "Popularity             48\n",
       "MSRP                 6049\n",
       "dtype: int64"
      ]
     },
     "execution_count": 8,
     "metadata": {},
     "output_type": "execute_result"
    }
   ],
   "source": [
    "df.nunique()"
   ]
  },
  {
   "cell_type": "code",
   "execution_count": null,
   "id": "6e8f0947",
   "metadata": {},
   "outputs": [],
   "source": []
  },
  {
   "cell_type": "code",
   "execution_count": 9,
   "id": "29844d5a",
   "metadata": {},
   "outputs": [
    {
     "data": {
      "text/plain": [
       "<AxesSubplot:xlabel='count', ylabel='Engine Fuel Type'>"
      ]
     },
     "execution_count": 9,
     "metadata": {},
     "output_type": "execute_result"
    },
    {
     "data": {
      "image/png": "[encoded data removed]",
      "text/plain": [
       "<Figure size 1440x1080 with 1 Axes>"
      ]
     },
     "metadata": {
      "needs_background": "light"
     },
     "output_type": "display_data"
    }
   ],
   "source": [
    "plt.figure(figsize=(20, 15))\n",
    "sns.countplot(y = df['Engine Fuel Type'].sort_values(ascending = False), palette='Dark2')\n"
   ]
  },
  {
   "cell_type": "code",
   "execution_count": 10,
   "id": "5106793d",
   "metadata": {},
   "outputs": [
    {
     "name": "stderr",
     "output_type": "stream",
     "text": [
      "C:\\Users\\IRDA\\anaconda3\\lib\\site-packages\\seaborn\\_decorators.py:36: FutureWarning: Pass the following variable as a keyword arg: x. From version 0.12, the only valid positional argument will be `data`, and passing other arguments without an explicit keyword will result in an error or misinterpretation.\n",
      "  warnings.warn(\n"
     ]
    },
    {
     "data": {
      "text/plain": [
       "<AxesSubplot:xlabel='Vehicle Size', ylabel='count'>"
      ]
     },
     "execution_count": 10,
     "metadata": {},
     "output_type": "execute_result"
    },
    {
     "data": {
      "image/png": "[encoded data removed]",
      "text/plain": [
       "<Figure size 720x720 with 1 Axes>"
      ]
     },
     "metadata": {
      "needs_background": "light"
     },
     "output_type": "display_data"
    }
   ],
   "source": [
    "plt.figure(figsize=(10,10))\n",
    "sns.countplot(df['Vehicle Size'], palette='Set1')"
   ]
  },
  {
   "cell_type": "code",
   "execution_count": 11,
   "id": "09aed68e",
   "metadata": {},
   "outputs": [
    {
     "data": {
      "text/html": [
       "<div>\n",
       "<style scoped>\n",
       "    .dataframe tbody tr th:only-of-type {\n",
       "        vertical-align: middle;\n",
       "    }\n",
       "\n",
       "    .dataframe tbody tr th {\n",
       "        vertical-align: top;\n",
       "    }\n",
       "\n",
       "    .dataframe thead tr th {\n",
       "        text-align: left;\n",
       "    }\n",
       "\n",
       "    .dataframe thead tr:last-of-type th {\n",
       "        text-align: right;\n",
       "    }\n",
       "</style>\n",
       "<table border=\"1\" class=\"dataframe\">\n",
       "  <thead>\n",
       "    <tr>\n",
       "      <th></th>\n",
       "      <th colspan=\"3\" halign=\"left\">Engine HP</th>\n",
       "      <th colspan=\"3\" halign=\"left\">Engine Cylinders</th>\n",
       "      <th colspan=\"3\" halign=\"left\">highway MPG</th>\n",
       "      <th colspan=\"3\" halign=\"left\">city mpg</th>\n",
       "    </tr>\n",
       "    <tr>\n",
       "      <th></th>\n",
       "      <th>min</th>\n",
       "      <th>max</th>\n",
       "      <th>mean</th>\n",
       "      <th>min</th>\n",
       "      <th>max</th>\n",
       "      <th>mean</th>\n",
       "      <th>min</th>\n",
       "      <th>max</th>\n",
       "      <th>mean</th>\n",
       "      <th>min</th>\n",
       "      <th>max</th>\n",
       "      <th>mean</th>\n",
       "    </tr>\n",
       "    <tr>\n",
       "      <th>Make</th>\n",
       "      <th></th>\n",
       "      <th></th>\n",
       "      <th></th>\n",
       "      <th></th>\n",
       "      <th></th>\n",
       "      <th></th>\n",
       "      <th></th>\n",
       "      <th></th>\n",
       "      <th></th>\n",
       "      <th></th>\n",
       "      <th></th>\n",
       "      <th></th>\n",
       "    </tr>\n",
       "  </thead>\n",
       "  <tbody>\n",
       "    <tr>\n",
       "      <th>Acura</th>\n",
       "      <td>111.0</td>\n",
       "      <td>573.0</td>\n",
       "      <td>244.797619</td>\n",
       "      <td>4.0</td>\n",
       "      <td>6.0</td>\n",
       "      <td>5.333333</td>\n",
       "      <td>17</td>\n",
       "      <td>38</td>\n",
       "      <td>28.111111</td>\n",
       "      <td>13</td>\n",
       "      <td>39</td>\n",
       "      <td>19.940476</td>\n",
       "    </tr>\n",
       "    <tr>\n",
       "      <th>Alfa Romeo</th>\n",
       "      <td>237.0</td>\n",
       "      <td>237.0</td>\n",
       "      <td>237.000000</td>\n",
       "      <td>4.0</td>\n",
       "      <td>4.0</td>\n",
       "      <td>4.000000</td>\n",
       "      <td>34</td>\n",
       "      <td>34</td>\n",
       "      <td>34.000000</td>\n",
       "      <td>24</td>\n",
       "      <td>24</td>\n",
       "      <td>24.000000</td>\n",
       "    </tr>\n",
       "    <tr>\n",
       "      <th>Aston Martin</th>\n",
       "      <td>420.0</td>\n",
       "      <td>568.0</td>\n",
       "      <td>484.322581</td>\n",
       "      <td>8.0</td>\n",
       "      <td>12.0</td>\n",
       "      <td>10.623656</td>\n",
       "      <td>15</td>\n",
       "      <td>22</td>\n",
       "      <td>18.892473</td>\n",
       "      <td>9</td>\n",
       "      <td>14</td>\n",
       "      <td>12.526882</td>\n",
       "    </tr>\n",
       "    <tr>\n",
       "      <th>Audi</th>\n",
       "      <td>108.0</td>\n",
       "      <td>610.0</td>\n",
       "      <td>277.695122</td>\n",
       "      <td>4.0</td>\n",
       "      <td>12.0</td>\n",
       "      <td>5.557927</td>\n",
       "      <td>18</td>\n",
       "      <td>354</td>\n",
       "      <td>28.823171</td>\n",
       "      <td>11</td>\n",
       "      <td>31</td>\n",
       "      <td>19.585366</td>\n",
       "    </tr>\n",
       "    <tr>\n",
       "      <th>BMW</th>\n",
       "      <td>170.0</td>\n",
       "      <td>600.0</td>\n",
       "      <td>326.907186</td>\n",
       "      <td>0.0</td>\n",
       "      <td>12.0</td>\n",
       "      <td>5.958084</td>\n",
       "      <td>18</td>\n",
       "      <td>111</td>\n",
       "      <td>29.245509</td>\n",
       "      <td>10</td>\n",
       "      <td>137</td>\n",
       "      <td>20.739521</td>\n",
       "    </tr>\n",
       "    <tr>\n",
       "      <th>Bentley</th>\n",
       "      <td>400.0</td>\n",
       "      <td>631.0</td>\n",
       "      <td>533.851351</td>\n",
       "      <td>8.0</td>\n",
       "      <td>12.0</td>\n",
       "      <td>9.729730</td>\n",
       "      <td>14</td>\n",
       "      <td>25</td>\n",
       "      <td>18.905405</td>\n",
       "      <td>9</td>\n",
       "      <td>15</td>\n",
       "      <td>11.554054</td>\n",
       "    </tr>\n",
       "    <tr>\n",
       "      <th>Bugatti</th>\n",
       "      <td>1001.0</td>\n",
       "      <td>1001.0</td>\n",
       "      <td>1001.000000</td>\n",
       "      <td>16.0</td>\n",
       "      <td>16.0</td>\n",
       "      <td>16.000000</td>\n",
       "      <td>14</td>\n",
       "      <td>14</td>\n",
       "      <td>14.000000</td>\n",
       "      <td>8</td>\n",
       "      <td>8</td>\n",
       "      <td>8.000000</td>\n",
       "    </tr>\n",
       "    <tr>\n",
       "      <th>Buick</th>\n",
       "      <td>138.0</td>\n",
       "      <td>310.0</td>\n",
       "      <td>219.244898</td>\n",
       "      <td>4.0</td>\n",
       "      <td>8.0</td>\n",
       "      <td>5.316327</td>\n",
       "      <td>19</td>\n",
       "      <td>36</td>\n",
       "      <td>26.948980</td>\n",
       "      <td>14</td>\n",
       "      <td>28</td>\n",
       "      <td>18.704082</td>\n",
       "    </tr>\n",
       "    <tr>\n",
       "      <th>Cadillac</th>\n",
       "      <td>140.0</td>\n",
       "      <td>640.0</td>\n",
       "      <td>332.309824</td>\n",
       "      <td>4.0</td>\n",
       "      <td>8.0</td>\n",
       "      <td>6.433249</td>\n",
       "      <td>18</td>\n",
       "      <td>33</td>\n",
       "      <td>25.236776</td>\n",
       "      <td>12</td>\n",
       "      <td>22</td>\n",
       "      <td>17.355164</td>\n",
       "    </tr>\n",
       "    <tr>\n",
       "      <th>Chevrolet</th>\n",
       "      <td>55.0</td>\n",
       "      <td>650.0</td>\n",
       "      <td>246.972247</td>\n",
       "      <td>0.0</td>\n",
       "      <td>8.0</td>\n",
       "      <td>5.908118</td>\n",
       "      <td>15</td>\n",
       "      <td>110</td>\n",
       "      <td>25.815672</td>\n",
       "      <td>11</td>\n",
       "      <td>128</td>\n",
       "      <td>19.021371</td>\n",
       "    </tr>\n",
       "    <tr>\n",
       "      <th>Chrysler</th>\n",
       "      <td>100.0</td>\n",
       "      <td>385.0</td>\n",
       "      <td>229.139037</td>\n",
       "      <td>4.0</td>\n",
       "      <td>8.0</td>\n",
       "      <td>5.593583</td>\n",
       "      <td>17</td>\n",
       "      <td>36</td>\n",
       "      <td>26.368984</td>\n",
       "      <td>12</td>\n",
       "      <td>23</td>\n",
       "      <td>17.759358</td>\n",
       "    </tr>\n",
       "    <tr>\n",
       "      <th>Dodge</th>\n",
       "      <td>92.0</td>\n",
       "      <td>707.0</td>\n",
       "      <td>244.415335</td>\n",
       "      <td>4.0</td>\n",
       "      <td>10.0</td>\n",
       "      <td>6.258786</td>\n",
       "      <td>12</td>\n",
       "      <td>41</td>\n",
       "      <td>22.345048</td>\n",
       "      <td>10</td>\n",
       "      <td>28</td>\n",
       "      <td>16.065495</td>\n",
       "    </tr>\n",
       "    <tr>\n",
       "      <th>FIAT</th>\n",
       "      <td>101.0</td>\n",
       "      <td>180.0</td>\n",
       "      <td>143.559322</td>\n",
       "      <td>0.0</td>\n",
       "      <td>4.0</td>\n",
       "      <td>3.806452</td>\n",
       "      <td>29</td>\n",
       "      <td>108</td>\n",
       "      <td>37.338710</td>\n",
       "      <td>21</td>\n",
       "      <td>122</td>\n",
       "      <td>30.645161</td>\n",
       "    </tr>\n",
       "    <tr>\n",
       "      <th>Ferrari</th>\n",
       "      <td>400.0</td>\n",
       "      <td>731.0</td>\n",
       "      <td>511.956522</td>\n",
       "      <td>8.0</td>\n",
       "      <td>12.0</td>\n",
       "      <td>9.797101</td>\n",
       "      <td>12</td>\n",
       "      <td>23</td>\n",
       "      <td>15.724638</td>\n",
       "      <td>7</td>\n",
       "      <td>16</td>\n",
       "      <td>10.565217</td>\n",
       "    </tr>\n",
       "    <tr>\n",
       "      <th>Ford</th>\n",
       "      <td>63.0</td>\n",
       "      <td>662.0</td>\n",
       "      <td>243.097926</td>\n",
       "      <td>0.0</td>\n",
       "      <td>8.0</td>\n",
       "      <td>5.914869</td>\n",
       "      <td>13</td>\n",
       "      <td>99</td>\n",
       "      <td>24.006810</td>\n",
       "      <td>11</td>\n",
       "      <td>110</td>\n",
       "      <td>17.960272</td>\n",
       "    </tr>\n",
       "    <tr>\n",
       "      <th>GMC</th>\n",
       "      <td>105.0</td>\n",
       "      <td>420.0</td>\n",
       "      <td>259.844660</td>\n",
       "      <td>4.0</td>\n",
       "      <td>8.0</td>\n",
       "      <td>6.454369</td>\n",
       "      <td>13</td>\n",
       "      <td>32</td>\n",
       "      <td>21.403883</td>\n",
       "      <td>10</td>\n",
       "      <td>22</td>\n",
       "      <td>15.813592</td>\n",
       "    </tr>\n",
       "    <tr>\n",
       "      <th>Genesis</th>\n",
       "      <td>311.0</td>\n",
       "      <td>420.0</td>\n",
       "      <td>347.333333</td>\n",
       "      <td>6.0</td>\n",
       "      <td>8.0</td>\n",
       "      <td>6.666667</td>\n",
       "      <td>23</td>\n",
       "      <td>28</td>\n",
       "      <td>25.333333</td>\n",
       "      <td>15</td>\n",
       "      <td>18</td>\n",
       "      <td>16.333333</td>\n",
       "    </tr>\n",
       "    <tr>\n",
       "      <th>HUMMER</th>\n",
       "      <td>239.0</td>\n",
       "      <td>300.0</td>\n",
       "      <td>261.235294</td>\n",
       "      <td>5.0</td>\n",
       "      <td>8.0</td>\n",
       "      <td>6.058824</td>\n",
       "      <td>16</td>\n",
       "      <td>18</td>\n",
       "      <td>17.294118</td>\n",
       "      <td>13</td>\n",
       "      <td>14</td>\n",
       "      <td>13.529412</td>\n",
       "    </tr>\n",
       "    <tr>\n",
       "      <th>Honda</th>\n",
       "      <td>62.0</td>\n",
       "      <td>280.0</td>\n",
       "      <td>195.749441</td>\n",
       "      <td>0.0</td>\n",
       "      <td>6.0</td>\n",
       "      <td>4.659243</td>\n",
       "      <td>18</td>\n",
       "      <td>105</td>\n",
       "      <td>32.574610</td>\n",
       "      <td>14</td>\n",
       "      <td>132</td>\n",
       "      <td>25.443207</td>\n",
       "    </tr>\n",
       "    <tr>\n",
       "      <th>Hyundai</th>\n",
       "      <td>81.0</td>\n",
       "      <td>429.0</td>\n",
       "      <td>201.917492</td>\n",
       "      <td>4.0</td>\n",
       "      <td>8.0</td>\n",
       "      <td>4.666667</td>\n",
       "      <td>21</td>\n",
       "      <td>45</td>\n",
       "      <td>30.392739</td>\n",
       "      <td>15</td>\n",
       "      <td>40</td>\n",
       "      <td>22.343234</td>\n",
       "    </tr>\n",
       "    <tr>\n",
       "      <th>Infiniti</th>\n",
       "      <td>145.0</td>\n",
       "      <td>420.0</td>\n",
       "      <td>310.066667</td>\n",
       "      <td>4.0</td>\n",
       "      <td>8.0</td>\n",
       "      <td>6.151515</td>\n",
       "      <td>17</td>\n",
       "      <td>36</td>\n",
       "      <td>24.778788</td>\n",
       "      <td>12</td>\n",
       "      <td>29</td>\n",
       "      <td>17.827273</td>\n",
       "    </tr>\n",
       "    <tr>\n",
       "      <th>Kia</th>\n",
       "      <td>125.0</td>\n",
       "      <td>420.0</td>\n",
       "      <td>206.827434</td>\n",
       "      <td>0.0</td>\n",
       "      <td>8.0</td>\n",
       "      <td>4.588745</td>\n",
       "      <td>20</td>\n",
       "      <td>92</td>\n",
       "      <td>30.653680</td>\n",
       "      <td>15</td>\n",
       "      <td>120</td>\n",
       "      <td>23.848485</td>\n",
       "    </tr>\n",
       "    <tr>\n",
       "      <th>Lamborghini</th>\n",
       "      <td>550.0</td>\n",
       "      <td>750.0</td>\n",
       "      <td>614.076923</td>\n",
       "      <td>10.0</td>\n",
       "      <td>12.0</td>\n",
       "      <td>10.884615</td>\n",
       "      <td>12</td>\n",
       "      <td>21</td>\n",
       "      <td>18.019231</td>\n",
       "      <td>8</td>\n",
       "      <td>15</td>\n",
       "      <td>11.519231</td>\n",
       "    </tr>\n",
       "    <tr>\n",
       "      <th>Land Rover</th>\n",
       "      <td>174.0</td>\n",
       "      <td>550.0</td>\n",
       "      <td>322.097902</td>\n",
       "      <td>4.0</td>\n",
       "      <td>8.0</td>\n",
       "      <td>6.125874</td>\n",
       "      <td>14</td>\n",
       "      <td>30</td>\n",
       "      <td>22.125874</td>\n",
       "      <td>11</td>\n",
       "      <td>22</td>\n",
       "      <td>16.230769</td>\n",
       "    </tr>\n",
       "    <tr>\n",
       "      <th>Lexus</th>\n",
       "      <td>134.0</td>\n",
       "      <td>552.0</td>\n",
       "      <td>277.415842</td>\n",
       "      <td>4.0</td>\n",
       "      <td>10.0</td>\n",
       "      <td>6.247525</td>\n",
       "      <td>14</td>\n",
       "      <td>40</td>\n",
       "      <td>25.876238</td>\n",
       "      <td>11</td>\n",
       "      <td>43</td>\n",
       "      <td>20.311881</td>\n",
       "    </tr>\n",
       "    <tr>\n",
       "      <th>Lincoln</th>\n",
       "      <td>188.0</td>\n",
       "      <td>380.0</td>\n",
       "      <td>284.910256</td>\n",
       "      <td>4.0</td>\n",
       "      <td>8.0</td>\n",
       "      <td>6.073171</td>\n",
       "      <td>15</td>\n",
       "      <td>39</td>\n",
       "      <td>24.487805</td>\n",
       "      <td>11</td>\n",
       "      <td>41</td>\n",
       "      <td>17.890244</td>\n",
       "    </tr>\n",
       "    <tr>\n",
       "      <th>Lotus</th>\n",
       "      <td>189.0</td>\n",
       "      <td>400.0</td>\n",
       "      <td>275.965517</td>\n",
       "      <td>4.0</td>\n",
       "      <td>8.0</td>\n",
       "      <td>5.241379</td>\n",
       "      <td>21</td>\n",
       "      <td>39</td>\n",
       "      <td>26.551724</td>\n",
       "      <td>14</td>\n",
       "      <td>21</td>\n",
       "      <td>18.758621</td>\n",
       "    </tr>\n",
       "    <tr>\n",
       "      <th>Maserati</th>\n",
       "      <td>345.0</td>\n",
       "      <td>523.0</td>\n",
       "      <td>420.793103</td>\n",
       "      <td>6.0</td>\n",
       "      <td>8.0</td>\n",
       "      <td>7.344828</td>\n",
       "      <td>15</td>\n",
       "      <td>25</td>\n",
       "      <td>20.293103</td>\n",
       "      <td>10</td>\n",
       "      <td>17</td>\n",
       "      <td>13.327586</td>\n",
       "    </tr>\n",
       "    <tr>\n",
       "      <th>Maybach</th>\n",
       "      <td>543.0</td>\n",
       "      <td>631.0</td>\n",
       "      <td>590.500000</td>\n",
       "      <td>12.0</td>\n",
       "      <td>12.0</td>\n",
       "      <td>12.000000</td>\n",
       "      <td>16</td>\n",
       "      <td>16</td>\n",
       "      <td>16.000000</td>\n",
       "      <td>10</td>\n",
       "      <td>10</td>\n",
       "      <td>10.000000</td>\n",
       "    </tr>\n",
       "    <tr>\n",
       "      <th>Mazda</th>\n",
       "      <td>82.0</td>\n",
       "      <td>274.0</td>\n",
       "      <td>171.992908</td>\n",
       "      <td>4.0</td>\n",
       "      <td>6.0</td>\n",
       "      <td>4.615385</td>\n",
       "      <td>17</td>\n",
       "      <td>41</td>\n",
       "      <td>27.851064</td>\n",
       "      <td>14</td>\n",
       "      <td>34</td>\n",
       "      <td>21.245863</td>\n",
       "    </tr>\n",
       "    <tr>\n",
       "      <th>McLaren</th>\n",
       "      <td>562.0</td>\n",
       "      <td>641.0</td>\n",
       "      <td>610.400000</td>\n",
       "      <td>8.0</td>\n",
       "      <td>8.0</td>\n",
       "      <td>8.000000</td>\n",
       "      <td>22</td>\n",
       "      <td>23</td>\n",
       "      <td>22.200000</td>\n",
       "      <td>15</td>\n",
       "      <td>16</td>\n",
       "      <td>15.600000</td>\n",
       "    </tr>\n",
       "    <tr>\n",
       "      <th>Mercedes-Benz</th>\n",
       "      <td>121.0</td>\n",
       "      <td>641.0</td>\n",
       "      <td>350.181818</td>\n",
       "      <td>0.0</td>\n",
       "      <td>12.0</td>\n",
       "      <td>6.711048</td>\n",
       "      <td>13</td>\n",
       "      <td>82</td>\n",
       "      <td>24.830028</td>\n",
       "      <td>10</td>\n",
       "      <td>85</td>\n",
       "      <td>18.181303</td>\n",
       "    </tr>\n",
       "    <tr>\n",
       "      <th>Mitsubishi</th>\n",
       "      <td>66.0</td>\n",
       "      <td>320.0</td>\n",
       "      <td>173.429245</td>\n",
       "      <td>3.0</td>\n",
       "      <td>8.0</td>\n",
       "      <td>4.680952</td>\n",
       "      <td>17</td>\n",
       "      <td>102</td>\n",
       "      <td>27.544601</td>\n",
       "      <td>13</td>\n",
       "      <td>126</td>\n",
       "      <td>21.910798</td>\n",
       "    </tr>\n",
       "    <tr>\n",
       "      <th>Nissan</th>\n",
       "      <td>90.0</td>\n",
       "      <td>600.0</td>\n",
       "      <td>239.921533</td>\n",
       "      <td>0.0</td>\n",
       "      <td>8.0</td>\n",
       "      <td>5.336918</td>\n",
       "      <td>17</td>\n",
       "      <td>101</td>\n",
       "      <td>27.799283</td>\n",
       "      <td>12</td>\n",
       "      <td>126</td>\n",
       "      <td>21.874552</td>\n",
       "    </tr>\n",
       "    <tr>\n",
       "      <th>Oldsmobile</th>\n",
       "      <td>110.0</td>\n",
       "      <td>275.0</td>\n",
       "      <td>177.466667</td>\n",
       "      <td>4.0</td>\n",
       "      <td>8.0</td>\n",
       "      <td>5.573333</td>\n",
       "      <td>19</td>\n",
       "      <td>31</td>\n",
       "      <td>26.233333</td>\n",
       "      <td>13</td>\n",
       "      <td>22</td>\n",
       "      <td>17.606667</td>\n",
       "    </tr>\n",
       "    <tr>\n",
       "      <th>Plymouth</th>\n",
       "      <td>92.0</td>\n",
       "      <td>253.0</td>\n",
       "      <td>131.560976</td>\n",
       "      <td>4.0</td>\n",
       "      <td>6.0</td>\n",
       "      <td>4.390244</td>\n",
       "      <td>21</td>\n",
       "      <td>36</td>\n",
       "      <td>27.963415</td>\n",
       "      <td>15</td>\n",
       "      <td>28</td>\n",
       "      <td>20.792683</td>\n",
       "    </tr>\n",
       "    <tr>\n",
       "      <th>Pontiac</th>\n",
       "      <td>74.0</td>\n",
       "      <td>415.0</td>\n",
       "      <td>190.295699</td>\n",
       "      <td>4.0</td>\n",
       "      <td>8.0</td>\n",
       "      <td>5.483871</td>\n",
       "      <td>19</td>\n",
       "      <td>37</td>\n",
       "      <td>27.069892</td>\n",
       "      <td>13</td>\n",
       "      <td>27</td>\n",
       "      <td>18.682796</td>\n",
       "    </tr>\n",
       "    <tr>\n",
       "      <th>Porsche</th>\n",
       "      <td>208.0</td>\n",
       "      <td>605.0</td>\n",
       "      <td>392.794118</td>\n",
       "      <td>4.0</td>\n",
       "      <td>10.0</td>\n",
       "      <td>6.132353</td>\n",
       "      <td>15</td>\n",
       "      <td>30</td>\n",
       "      <td>25.367647</td>\n",
       "      <td>9</td>\n",
       "      <td>21</td>\n",
       "      <td>17.470588</td>\n",
       "    </tr>\n",
       "    <tr>\n",
       "      <th>Rolls-Royce</th>\n",
       "      <td>322.0</td>\n",
       "      <td>624.0</td>\n",
       "      <td>487.548387</td>\n",
       "      <td>8.0</td>\n",
       "      <td>12.0</td>\n",
       "      <td>11.870968</td>\n",
       "      <td>15</td>\n",
       "      <td>21</td>\n",
       "      <td>19.129032</td>\n",
       "      <td>10</td>\n",
       "      <td>13</td>\n",
       "      <td>11.838710</td>\n",
       "    </tr>\n",
       "    <tr>\n",
       "      <th>Saab</th>\n",
       "      <td>150.0</td>\n",
       "      <td>390.0</td>\n",
       "      <td>220.522523</td>\n",
       "      <td>4.0</td>\n",
       "      <td>8.0</td>\n",
       "      <td>4.540541</td>\n",
       "      <td>16</td>\n",
       "      <td>33</td>\n",
       "      <td>26.351351</td>\n",
       "      <td>12</td>\n",
       "      <td>21</td>\n",
       "      <td>17.765766</td>\n",
       "    </tr>\n",
       "    <tr>\n",
       "      <th>Scion</th>\n",
       "      <td>94.0</td>\n",
       "      <td>200.0</td>\n",
       "      <td>154.433333</td>\n",
       "      <td>4.0</td>\n",
       "      <td>4.0</td>\n",
       "      <td>4.000000</td>\n",
       "      <td>28</td>\n",
       "      <td>42</td>\n",
       "      <td>32.300000</td>\n",
       "      <td>22</td>\n",
       "      <td>36</td>\n",
       "      <td>25.316667</td>\n",
       "    </tr>\n",
       "    <tr>\n",
       "      <th>Spyker</th>\n",
       "      <td>400.0</td>\n",
       "      <td>400.0</td>\n",
       "      <td>400.000000</td>\n",
       "      <td>8.0</td>\n",
       "      <td>8.0</td>\n",
       "      <td>8.000000</td>\n",
       "      <td>18</td>\n",
       "      <td>18</td>\n",
       "      <td>18.000000</td>\n",
       "      <td>13</td>\n",
       "      <td>13</td>\n",
       "      <td>13.000000</td>\n",
       "    </tr>\n",
       "    <tr>\n",
       "      <th>Subaru</th>\n",
       "      <td>66.0</td>\n",
       "      <td>305.0</td>\n",
       "      <td>197.308594</td>\n",
       "      <td>3.0</td>\n",
       "      <td>6.0</td>\n",
       "      <td>4.367188</td>\n",
       "      <td>21</td>\n",
       "      <td>38</td>\n",
       "      <td>28.683594</td>\n",
       "      <td>15</td>\n",
       "      <td>30</td>\n",
       "      <td>21.789062</td>\n",
       "    </tr>\n",
       "    <tr>\n",
       "      <th>Suzuki</th>\n",
       "      <td>66.0</td>\n",
       "      <td>261.0</td>\n",
       "      <td>160.287749</td>\n",
       "      <td>4.0</td>\n",
       "      <td>6.0</td>\n",
       "      <td>4.547009</td>\n",
       "      <td>19</td>\n",
       "      <td>39</td>\n",
       "      <td>26.034188</td>\n",
       "      <td>14</td>\n",
       "      <td>33</td>\n",
       "      <td>19.914530</td>\n",
       "    </tr>\n",
       "    <tr>\n",
       "      <th>Tesla</th>\n",
       "      <td>NaN</td>\n",
       "      <td>NaN</td>\n",
       "      <td>NaN</td>\n",
       "      <td>0.0</td>\n",
       "      <td>0.0</td>\n",
       "      <td>0.000000</td>\n",
       "      <td>90</td>\n",
       "      <td>107</td>\n",
       "      <td>98.944444</td>\n",
       "      <td>86</td>\n",
       "      <td>102</td>\n",
       "      <td>94.111111</td>\n",
       "    </tr>\n",
       "    <tr>\n",
       "      <th>Toyota</th>\n",
       "      <td>93.0</td>\n",
       "      <td>381.0</td>\n",
       "      <td>236.147849</td>\n",
       "      <td>0.0</td>\n",
       "      <td>8.0</td>\n",
       "      <td>5.597315</td>\n",
       "      <td>17</td>\n",
       "      <td>74</td>\n",
       "      <td>26.453083</td>\n",
       "      <td>13</td>\n",
       "      <td>78</td>\n",
       "      <td>21.554960</td>\n",
       "    </tr>\n",
       "    <tr>\n",
       "      <th>Volkswagen</th>\n",
       "      <td>81.0</td>\n",
       "      <td>444.0</td>\n",
       "      <td>189.757726</td>\n",
       "      <td>4.0</td>\n",
       "      <td>12.0</td>\n",
       "      <td>4.365217</td>\n",
       "      <td>15</td>\n",
       "      <td>105</td>\n",
       "      <td>32.128554</td>\n",
       "      <td>11</td>\n",
       "      <td>126</td>\n",
       "      <td>23.580964</td>\n",
       "    </tr>\n",
       "    <tr>\n",
       "      <th>Volvo</th>\n",
       "      <td>114.0</td>\n",
       "      <td>345.0</td>\n",
       "      <td>230.971530</td>\n",
       "      <td>4.0</td>\n",
       "      <td>6.0</td>\n",
       "      <td>4.722420</td>\n",
       "      <td>19</td>\n",
       "      <td>38</td>\n",
       "      <td>27.202847</td>\n",
       "      <td>15</td>\n",
       "      <td>26</td>\n",
       "      <td>19.583630</td>\n",
       "    </tr>\n",
       "  </tbody>\n",
       "</table>\n",
       "</div>"
      ],
      "text/plain": [
       "              Engine HP                      Engine Cylinders        \\\n",
       "                    min     max         mean              min   max   \n",
       "Make                                                                  \n",
       "Acura             111.0   573.0   244.797619              4.0   6.0   \n",
       "Alfa Romeo        237.0   237.0   237.000000              4.0   4.0   \n",
       "Aston Martin      420.0   568.0   484.322581              8.0  12.0   \n",
       "Audi              108.0   610.0   277.695122              4.0  12.0   \n",
       "BMW               170.0   600.0   326.907186              0.0  12.0   \n",
       "Bentley           400.0   631.0   533.851351              8.0  12.0   \n",
       "Bugatti          1001.0  1001.0  1001.000000             16.0  16.0   \n",
       "Buick             138.0   310.0   219.244898              4.0   8.0   \n",
       "Cadillac          140.0   640.0   332.309824              4.0   8.0   \n",
       "Chevrolet          55.0   650.0   246.972247              0.0   8.0   \n",
       "Chrysler          100.0   385.0   229.139037              4.0   8.0   \n",
       "Dodge              92.0   707.0   244.415335              4.0  10.0   \n",
       "FIAT              101.0   180.0   143.559322              0.0   4.0   \n",
       "Ferrari           400.0   731.0   511.956522              8.0  12.0   \n",
       "Ford               63.0   662.0   243.097926              0.0   8.0   \n",
       "GMC               105.0   420.0   259.844660              4.0   8.0   \n",
       "Genesis           311.0   420.0   347.333333              6.0   8.0   \n",
       "HUMMER            239.0   300.0   261.235294              5.0   8.0   \n",
       "Honda              62.0   280.0   195.749441              0.0   6.0   \n",
       "Hyundai            81.0   429.0   201.917492              4.0   8.0   \n",
       "Infiniti          145.0   420.0   310.066667              4.0   8.0   \n",
       "Kia               125.0   420.0   206.827434              0.0   8.0   \n",
       "Lamborghini       550.0   750.0   614.076923             10.0  12.0   \n",
       "Land Rover        174.0   550.0   322.097902              4.0   8.0   \n",
       "Lexus             134.0   552.0   277.415842              4.0  10.0   \n",
       "Lincoln           188.0   380.0   284.910256              4.0   8.0   \n",
       "Lotus             189.0   400.0   275.965517              4.0   8.0   \n",
       "Maserati          345.0   523.0   420.793103              6.0   8.0   \n",
       "Maybach           543.0   631.0   590.500000             12.0  12.0   \n",
       "Mazda              82.0   274.0   171.992908              4.0   6.0   \n",
       "McLaren           562.0   641.0   610.400000              8.0   8.0   \n",
       "Mercedes-Benz     121.0   641.0   350.181818              0.0  12.0   \n",
       "Mitsubishi         66.0   320.0   173.429245              3.0   8.0   \n",
       "Nissan             90.0   600.0   239.921533              0.0   8.0   \n",
       "Oldsmobile        110.0   275.0   177.466667              4.0   8.0   \n",
       "Plymouth           92.0   253.0   131.560976              4.0   6.0   \n",
       "Pontiac            74.0   415.0   190.295699              4.0   8.0   \n",
       "Porsche           208.0   605.0   392.794118              4.0  10.0   \n",
       "Rolls-Royce       322.0   624.0   487.548387              8.0  12.0   \n",
       "Saab              150.0   390.0   220.522523              4.0   8.0   \n",
       "Scion              94.0   200.0   154.433333              4.0   4.0   \n",
       "Spyker            400.0   400.0   400.000000              8.0   8.0   \n",
       "Subaru             66.0   305.0   197.308594              3.0   6.0   \n",
       "Suzuki             66.0   261.0   160.287749              4.0   6.0   \n",
       "Tesla               NaN     NaN          NaN              0.0   0.0   \n",
       "Toyota             93.0   381.0   236.147849              0.0   8.0   \n",
       "Volkswagen         81.0   444.0   189.757726              4.0  12.0   \n",
       "Volvo             114.0   345.0   230.971530              4.0   6.0   \n",
       "\n",
       "                         highway MPG                 city mpg                  \n",
       "                    mean         min  max       mean      min  max       mean  \n",
       "Make                                                                           \n",
       "Acura           5.333333          17   38  28.111111       13   39  19.940476  \n",
       "Alfa Romeo      4.000000          34   34  34.000000       24   24  24.000000  \n",
       "Aston Martin   10.623656          15   22  18.892473        9   14  12.526882  \n",
       "Audi            5.557927          18  354  28.823171       11   31  19.585366  \n",
       "BMW             5.958084          18  111  29.245509       10  137  20.739521  \n",
       "Bentley         9.729730          14   25  18.905405        9   15  11.554054  \n",
       "Bugatti        16.000000          14   14  14.000000        8    8   8.000000  \n",
       "Buick           5.316327          19   36  26.948980       14   28  18.704082  \n",
       "Cadillac        6.433249          18   33  25.236776       12   22  17.355164  \n",
       "Chevrolet       5.908118          15  110  25.815672       11  128  19.021371  \n",
       "Chrysler        5.593583          17   36  26.368984       12   23  17.759358  \n",
       "Dodge           6.258786          12   41  22.345048       10   28  16.065495  \n",
       "FIAT            3.806452          29  108  37.338710       21  122  30.645161  \n",
       "Ferrari         9.797101          12   23  15.724638        7   16  10.565217  \n",
       "Ford            5.914869          13   99  24.006810       11  110  17.960272  \n",
       "GMC             6.454369          13   32  21.403883       10   22  15.813592  \n",
       "Genesis         6.666667          23   28  25.333333       15   18  16.333333  \n",
       "HUMMER          6.058824          16   18  17.294118       13   14  13.529412  \n",
       "Honda           4.659243          18  105  32.574610       14  132  25.443207  \n",
       "Hyundai         4.666667          21   45  30.392739       15   40  22.343234  \n",
       "Infiniti        6.151515          17   36  24.778788       12   29  17.827273  \n",
       "Kia             4.588745          20   92  30.653680       15  120  23.848485  \n",
       "Lamborghini    10.884615          12   21  18.019231        8   15  11.519231  \n",
       "Land Rover      6.125874          14   30  22.125874       11   22  16.230769  \n",
       "Lexus           6.247525          14   40  25.876238       11   43  20.311881  \n",
       "Lincoln         6.073171          15   39  24.487805       11   41  17.890244  \n",
       "Lotus           5.241379          21   39  26.551724       14   21  18.758621  \n",
       "Maserati        7.344828          15   25  20.293103       10   17  13.327586  \n",
       "Maybach        12.000000          16   16  16.000000       10   10  10.000000  \n",
       "Mazda           4.615385          17   41  27.851064       14   34  21.245863  \n",
       "McLaren         8.000000          22   23  22.200000       15   16  15.600000  \n",
       "Mercedes-Benz   6.711048          13   82  24.830028       10   85  18.181303  \n",
       "Mitsubishi      4.680952          17  102  27.544601       13  126  21.910798  \n",
       "Nissan          5.336918          17  101  27.799283       12  126  21.874552  \n",
       "Oldsmobile      5.573333          19   31  26.233333       13   22  17.606667  \n",
       "Plymouth        4.390244          21   36  27.963415       15   28  20.792683  \n",
       "Pontiac         5.483871          19   37  27.069892       13   27  18.682796  \n",
       "Porsche         6.132353          15   30  25.367647        9   21  17.470588  \n",
       "Rolls-Royce    11.870968          15   21  19.129032       10   13  11.838710  \n",
       "Saab            4.540541          16   33  26.351351       12   21  17.765766  \n",
       "Scion           4.000000          28   42  32.300000       22   36  25.316667  \n",
       "Spyker          8.000000          18   18  18.000000       13   13  13.000000  \n",
       "Subaru          4.367188          21   38  28.683594       15   30  21.789062  \n",
       "Suzuki          4.547009          19   39  26.034188       14   33  19.914530  \n",
       "Tesla           0.000000          90  107  98.944444       86  102  94.111111  \n",
       "Toyota          5.597315          17   74  26.453083       13   78  21.554960  \n",
       "Volkswagen      4.365217          15  105  32.128554       11  126  23.580964  \n",
       "Volvo           4.722420          19   38  27.202847       15   26  19.583630  "
      ]
     },
     "execution_count": 11,
     "metadata": {},
     "output_type": "execute_result"
    }
   ],
   "source": [
    "df.groupby('Make')[['Engine HP', 'Engine Cylinders', 'highway MPG', 'city mpg']].agg(['min', 'max', 'mean'])"
   ]
  },
  {
   "cell_type": "code",
   "execution_count": 12,
   "id": "4106e4ea",
   "metadata": {},
   "outputs": [
    {
     "data": {
      "image/png": "[encoded data removed]",
      "text/plain": [
       "<Figure size 1440x720 with 1 Axes>"
      ]
     },
     "metadata": {
      "needs_background": "light"
     },
     "output_type": "display_data"
    }
   ],
   "source": [
    "plt.figure(figsize=(20,10))\n",
    "df.groupby('Year')['MSRP'].mean().plot(kind='bar', color='b')\n",
    "plt.title('the average prices of the car in different year, fontsize=20')\n",
    "plt.show()"
   ]
  },
  {
   "cell_type": "code",
   "execution_count": 13,
   "id": "859b7fef",
   "metadata": {},
   "outputs": [
    {
     "data": {
      "image/png": "[encoded data removed]",
      "text/plain": [
       "<Figure size 1440x1080 with 1 Axes>"
      ]
     },
     "metadata": {
      "needs_background": "light"
     },
     "output_type": "display_data"
    }
   ],
   "source": [
    "plt.figure(figsize=(20,15))\n",
    "df.groupby('Transmission Type')['MSRP'].mean().plot(kind='bar', color='r')\n",
    "plt.title('the average prices of cars in different transmission type, fontsize=20')\n",
    "plt.show()"
   ]
  },
  {
   "cell_type": "code",
   "execution_count": 14,
   "id": "3bd9af93",
   "metadata": {},
   "outputs": [
    {
     "data": {
      "image/png": "[encoded data removed]",
      "text/plain": [
       "<Figure size 1440x1080 with 1 Axes>"
      ]
     },
     "metadata": {
      "needs_background": "light"
     },
     "output_type": "display_data"
    }
   ],
   "source": [
    "plt.figure(figsize=(20,15))\n",
    "df.groupby('Make').median()['Engine HP'].plot(kind='barh', fontsize=20, color='brown')\n",
    "plt.show()"
   ]
  },
  {
   "cell_type": "code",
   "execution_count": 15,
   "id": "f55b37bc",
   "metadata": {},
   "outputs": [
    {
     "data": {
      "image/png": "[encoded data removed]",
      "text/plain": [
       "<Figure size 1080x360 with 1 Axes>"
      ]
     },
     "metadata": {
      "needs_background": "light"
     },
     "output_type": "display_data"
    }
   ],
   "source": [
    "plt.figure(figsize=(15,5))\n",
    "df.groupby('Driven_Wheels').mean()['MSRP'].plot(kind='barh', color='olivedrab')\n",
    "plt.title('the average car based on driven wheels, fontsize=20')\n",
    "plt.show()\n"
   ]
  },
  {
   "cell_type": "code",
   "execution_count": 16,
   "id": "422c3f5c",
   "metadata": {},
   "outputs": [
    {
     "data": {
      "text/plain": [
       "<function matplotlib.pyplot.show(close=None, block=None)>"
      ]
     },
     "execution_count": 16,
     "metadata": {},
     "output_type": "execute_result"
    },
    {
     "data": {
      "image/png": "[encoded data removed]",
      "text/plain": [
       "<Figure size 1080x1080 with 1 Axes>"
      ]
     },
     "metadata": {
      "needs_background": "light"
     },
     "output_type": "display_data"
    }
   ],
   "source": [
    "plt.figure(figsize=(15,15))\n",
    "df.groupby('Make').mean()['Popularity'].sort_values(ascending=True).plot(kind='barh', color='orange')\n",
    "plt.yticks(fontsize=10)\n",
    "plt.title('popularity of various brand cars, fontsize=15')\n",
    "plt.show"
   ]
  },
  {
   "cell_type": "code",
   "execution_count": 17,
   "id": "c81715ed",
   "metadata": {},
   "outputs": [
    {
     "data": {
      "image/png": "[encoded data removed]",
      "text/plain": [
       "<Figure size 432x288 with 1 Axes>"
      ]
     },
     "metadata": {
      "needs_background": "light"
     },
     "output_type": "display_data"
    }
   ],
   "source": [
    "sns.scatterplot(x='highway MPG', y='city mpg', data=df, color='r')\n",
    "plt.title('scatterplot bettwen highway and city mpg')\n",
    "plt.show()"
   ]
  },
  {
   "cell_type": "code",
   "execution_count": 18,
   "id": "0a0812ad",
   "metadata": {},
   "outputs": [
    {
     "data": {
      "text/html": [
       "<div>\n",
       "<style scoped>\n",
       "    .dataframe tbody tr th:only-of-type {\n",
       "        vertical-align: middle;\n",
       "    }\n",
       "\n",
       "    .dataframe tbody tr th {\n",
       "        vertical-align: top;\n",
       "    }\n",
       "\n",
       "    .dataframe thead th {\n",
       "        text-align: right;\n",
       "    }\n",
       "</style>\n",
       "<table border=\"1\" class=\"dataframe\">\n",
       "  <thead>\n",
       "    <tr style=\"text-align: right;\">\n",
       "      <th></th>\n",
       "      <th>Make</th>\n",
       "      <th>Model</th>\n",
       "      <th>Year</th>\n",
       "      <th>Engine Fuel Type</th>\n",
       "      <th>Engine HP</th>\n",
       "      <th>Engine Cylinders</th>\n",
       "      <th>Transmission Type</th>\n",
       "      <th>Driven_Wheels</th>\n",
       "      <th>Number of Doors</th>\n",
       "      <th>Market Category</th>\n",
       "      <th>Vehicle Size</th>\n",
       "      <th>Vehicle Style</th>\n",
       "      <th>highway MPG</th>\n",
       "      <th>city mpg</th>\n",
       "      <th>Popularity</th>\n",
       "      <th>MSRP</th>\n",
       "    </tr>\n",
       "  </thead>\n",
       "  <tbody>\n",
       "    <tr>\n",
       "      <th>1119</th>\n",
       "      <td>Audi</td>\n",
       "      <td>A6</td>\n",
       "      <td>2017</td>\n",
       "      <td>premium unleaded (recommended)</td>\n",
       "      <td>252.0</td>\n",
       "      <td>4.0</td>\n",
       "      <td>AUTOMATED_MANUAL</td>\n",
       "      <td>front wheel drive</td>\n",
       "      <td>4.0</td>\n",
       "      <td>Luxury</td>\n",
       "      <td>Midsize</td>\n",
       "      <td>Sedan</td>\n",
       "      <td>354</td>\n",
       "      <td>24</td>\n",
       "      <td>3105</td>\n",
       "      <td>51600</td>\n",
       "    </tr>\n",
       "  </tbody>\n",
       "</table>\n",
       "</div>"
      ],
      "text/plain": [
       "      Make Model  Year                Engine Fuel Type  Engine HP  \\\n",
       "1119  Audi    A6  2017  premium unleaded (recommended)      252.0   \n",
       "\n",
       "      Engine Cylinders Transmission Type      Driven_Wheels  Number of Doors  \\\n",
       "1119               4.0  AUTOMATED_MANUAL  front wheel drive              4.0   \n",
       "\n",
       "     Market Category Vehicle Size Vehicle Style  highway MPG  city mpg  \\\n",
       "1119          Luxury      Midsize         Sedan          354        24   \n",
       "\n",
       "      Popularity   MSRP  \n",
       "1119        3105  51600  "
      ]
     },
     "execution_count": 18,
     "metadata": {},
     "output_type": "execute_result"
    }
   ],
   "source": [
    "df[df['highway MPG'] > 350]"
   ]
  },
  {
   "cell_type": "code",
   "execution_count": 19,
   "id": "576f9f7a",
   "metadata": {},
   "outputs": [],
   "source": [
    "data = df[df['highway MPG'] < 350]"
   ]
  },
  {
   "cell_type": "code",
   "execution_count": 20,
   "id": "5078dc43",
   "metadata": {},
   "outputs": [
    {
     "data": {
      "image/png": "[encoded data removed]",
      "text/plain": [
       "<Figure size 432x288 with 1 Axes>"
      ]
     },
     "metadata": {
      "needs_background": "light"
     },
     "output_type": "display_data"
    }
   ],
   "source": [
    "sns.scatterplot(x='highway MPG', y='city mpg', data=data, color='salmon')\n",
    "plt.title('scatterplot between highway mpg and city mpg')\n",
    "plt.show()"
   ]
  },
  {
   "cell_type": "code",
   "execution_count": 21,
   "id": "6b83a7d8",
   "metadata": {},
   "outputs": [
    {
     "data": {
      "text/plain": [
       "array(['Factory Tuner,Luxury,High-Performance', 'Luxury,Performance',\n",
       "       'Luxury,High-Performance', 'Luxury', 'Performance', 'Flex Fuel',\n",
       "       'Flex Fuel,Performance', nan, 'Hatchback',\n",
       "       'Hatchback,Luxury,Performance', 'Hatchback,Luxury',\n",
       "       'Luxury,High-Performance,Hybrid', 'Diesel,Luxury',\n",
       "       'Hatchback,Performance', 'Hatchback,Factory Tuner,Performance',\n",
       "       'High-Performance', 'Factory Tuner,High-Performance',\n",
       "       'Exotic,High-Performance', 'Exotic,Factory Tuner,High-Performance',\n",
       "       'Factory Tuner,Performance', 'Crossover', 'Exotic,Luxury',\n",
       "       'Exotic,Luxury,High-Performance', 'Exotic,Luxury,Performance',\n",
       "       'Factory Tuner,Luxury,Performance', 'Flex Fuel,Luxury',\n",
       "       'Crossover,Luxury', 'Hatchback,Factory Tuner,Luxury,Performance',\n",
       "       'Crossover,Hatchback', 'Hybrid', 'Luxury,Performance,Hybrid',\n",
       "       'Crossover,Luxury,Performance,Hybrid',\n",
       "       'Crossover,Luxury,Performance',\n",
       "       'Exotic,Factory Tuner,Luxury,High-Performance',\n",
       "       'Flex Fuel,Luxury,High-Performance', 'Crossover,Flex Fuel',\n",
       "       'Diesel', 'Hatchback,Diesel', 'Crossover,Luxury,Diesel',\n",
       "       'Crossover,Luxury,High-Performance',\n",
       "       'Exotic,Flex Fuel,Factory Tuner,Luxury,High-Performance',\n",
       "       'Exotic,Flex Fuel,Luxury,High-Performance',\n",
       "       'Exotic,Factory Tuner,Luxury,Performance', 'Hatchback,Hybrid',\n",
       "       'Crossover,Hybrid', 'Hatchback,Luxury,Hybrid',\n",
       "       'Flex Fuel,Luxury,Performance', 'Crossover,Performance',\n",
       "       'Luxury,Hybrid', 'Crossover,Flex Fuel,Luxury,Performance',\n",
       "       'Crossover,Flex Fuel,Luxury', 'Crossover,Flex Fuel,Performance',\n",
       "       'Hatchback,Factory Tuner,High-Performance', 'Hatchback,Flex Fuel',\n",
       "       'Factory Tuner,Luxury',\n",
       "       'Crossover,Factory Tuner,Luxury,High-Performance',\n",
       "       'Crossover,Factory Tuner,Luxury,Performance',\n",
       "       'Crossover,Hatchback,Factory Tuner,Performance',\n",
       "       'Crossover,Hatchback,Performance', 'Flex Fuel,Hybrid',\n",
       "       'Flex Fuel,Performance,Hybrid',\n",
       "       'Crossover,Exotic,Luxury,High-Performance',\n",
       "       'Crossover,Exotic,Luxury,Performance', 'Exotic,Performance',\n",
       "       'Exotic,Luxury,High-Performance,Hybrid', 'Crossover,Luxury,Hybrid',\n",
       "       'Flex Fuel,Factory Tuner,Luxury,High-Performance',\n",
       "       'Performance,Hybrid', 'Crossover,Factory Tuner,Performance',\n",
       "       'Crossover,Diesel', 'Flex Fuel,Diesel',\n",
       "       'Crossover,Hatchback,Luxury'], dtype=object)"
      ]
     },
     "execution_count": 21,
     "metadata": {},
     "output_type": "execute_result"
    }
   ],
   "source": [
    "df['Market Category'].unique()"
   ]
  },
  {
   "cell_type": "code",
   "execution_count": 22,
   "id": "ef357a29",
   "metadata": {},
   "outputs": [
    {
     "data": {
      "text/plain": [
       "<AxesSubplot:xlabel='highway MPG'>"
      ]
     },
     "execution_count": 22,
     "metadata": {},
     "output_type": "execute_result"
    },
    {
     "data": {
      "image/png": "[encoded data removed]",
      "text/plain": [
       "<Figure size 432x288 with 1 Axes>"
      ]
     },
     "metadata": {
      "needs_background": "light"
     },
     "output_type": "display_data"
    }
   ],
   "source": [
    "sns.boxplot(x='highway MPG', data=data, color='r')"
   ]
  },
  {
   "cell_type": "code",
   "execution_count": 23,
   "id": "3a47c8a8",
   "metadata": {},
   "outputs": [
    {
     "name": "stdout",
     "output_type": "stream",
     "text": [
      "The 90.0th percentile value is 35.00\n",
      "The 91.0th percentile value is 36.00\n",
      "The 92.0th percentile value is 36.00\n",
      "The 93.0th percentile value is 37.00\n",
      "The 94.0th percentile value is 37.00\n",
      "The 95.0th percentile value is 38.00\n",
      "The 96.0th percentile value is 39.00\n",
      "The 97.0th percentile value is 40.00\n",
      "The 98.0th percentile value is 42.00\n",
      "The 99.0th percentile value is 46.00\n"
     ]
    }
   ],
   "source": [
    "for i in range(90, 100):\n",
    "    print(\"The {:.1f}th percentile value is {:.2f}\".format(i, np.percentile(df['highway MPG'], i)))\n"
   ]
  },
  {
   "cell_type": "code",
   "execution_count": 24,
   "id": "30eb0b21",
   "metadata": {},
   "outputs": [
    {
     "name": "stdout",
     "output_type": "stream",
     "text": [
      "The 99.0th percentile value is 46.00\n",
      "The 99.1th percentile value is 46.00\n",
      "The 99.2th percentile value is 48.00\n",
      "The 99.3th percentile value is 48.00\n",
      "The 99.4th percentile value is 51.57\n",
      "The 99.5th percentile value is 90.00\n",
      "The 99.6th percentile value is 98.35\n",
      "The 99.7th percentile value is 101.00\n",
      "The 99.8th percentile value is 105.00\n",
      "The 99.9th percentile value is 108.09\n"
     ]
    }
   ],
   "source": [
    "for i in [x * 0.1 for x in range (990,1000)]:\n",
    "    print('The {:.1f}th percentile value is {:.2f}'.format(i, np.percentile(df['highway MPG'], i)))"
   ]
  },
  {
   "cell_type": "code",
   "execution_count": 25,
   "id": "3970aad9",
   "metadata": {},
   "outputs": [],
   "source": [
    "data = df[df['highway MPG'] < 60]"
   ]
  },
  {
   "cell_type": "code",
   "execution_count": 26,
   "id": "15117ed3",
   "metadata": {},
   "outputs": [
    {
     "data": {
      "text/plain": [
       "<AxesSubplot:xlabel='highway MPG'>"
      ]
     },
     "execution_count": 26,
     "metadata": {},
     "output_type": "execute_result"
    },
    {
     "data": {
      "image/png": "[encoded data removed]",
      "text/plain": [
       "<Figure size 432x288 with 1 Axes>"
      ]
     },
     "metadata": {
      "needs_background": "light"
     },
     "output_type": "display_data"
    }
   ],
   "source": [
    "sns.boxplot(x='highway MPG', data=data, color='skyblue')"
   ]
  },
  {
   "cell_type": "code",
   "execution_count": 27,
   "id": "aa55ebda",
   "metadata": {},
   "outputs": [
    {
     "data": {
      "text/plain": [
       "<AxesSubplot:xlabel='city mpg'>"
      ]
     },
     "execution_count": 27,
     "metadata": {},
     "output_type": "execute_result"
    },
    {
     "data": {
      "image/png": "[encoded data removed]",
      "text/plain": [
       "<Figure size 432x288 with 1 Axes>"
      ]
     },
     "metadata": {
      "needs_background": "light"
     },
     "output_type": "display_data"
    }
   ],
   "source": [
    "sns.boxplot(x='city mpg', data=df, color='pink')"
   ]
  },
  {
   "cell_type": "code",
   "execution_count": 28,
   "id": "bff64c47",
   "metadata": {},
   "outputs": [
    {
     "name": "stdout",
     "output_type": "stream",
     "text": [
      "the 90.0th percentile value is26.00\n",
      "the 91.0th percentile value is27.00\n",
      "the 92.0th percentile value is27.00\n",
      "the 93.0th percentile value is28.00\n",
      "the 94.0th percentile value is28.00\n",
      "the 95.0th percentile value is29.00\n",
      "the 96.0th percentile value is30.00\n",
      "the 97.0th percentile value is31.00\n",
      "the 98.0th percentile value is36.00\n",
      "the 99.0th percentile value is44.00\n"
     ]
    }
   ],
   "source": [
    "for i in range(90, 100):\n",
    "    print('the {:.1f}th percentile value is{:.2f}'.format(i, np.percentile(df['city mpg'], i)))"
   ]
  },
  {
   "cell_type": "code",
   "execution_count": 29,
   "id": "f1fdb332",
   "metadata": {},
   "outputs": [
    {
     "name": "stdout",
     "output_type": "stream",
     "text": [
      "The99.0th percentile value is44.00\n",
      "The99.1th percentile value is49.00\n",
      "The99.2th percentile value is51.00\n",
      "The99.3th percentile value is53.00\n",
      "The99.4th percentile value is54.00\n",
      "The99.5th percentile value is85.43\n",
      "The99.6th percentile value is97.35\n",
      "The99.7th percentile value is120.00\n",
      "The99.8th percentile value is126.00\n",
      "The99.9th percentile value is128.00\n"
     ]
    }
   ],
   "source": [
    "for i in[x * 0.1 for x in range(990, 1000)]:\n",
    "    print('The{:.1f}th percentile value is{:.2f}'.format(i, np.percentile(df['city mpg'], i)))"
   ]
  },
  {
   "cell_type": "code",
   "execution_count": 30,
   "id": "cf83032d",
   "metadata": {},
   "outputs": [],
   "source": [
    "data = df[df['city mpg'] < 40]"
   ]
  },
  {
   "cell_type": "code",
   "execution_count": 31,
   "id": "4bd272ff",
   "metadata": {},
   "outputs": [
    {
     "data": {
      "text/plain": [
       "<AxesSubplot:xlabel='city mpg'>"
      ]
     },
     "execution_count": 31,
     "metadata": {},
     "output_type": "execute_result"
    },
    {
     "data": {
      "image/png": "[encoded data removed]",
      "text/plain": [
       "<Figure size 432x288 with 1 Axes>"
      ]
     },
     "metadata": {
      "needs_background": "light"
     },
     "output_type": "display_data"
    }
   ],
   "source": [
    "sns.boxplot(x='city mpg', data=data, color='darkgreen')"
   ]
  },
  {
   "cell_type": "code",
   "execution_count": 32,
   "id": "6a9f652e",
   "metadata": {},
   "outputs": [
    {
     "data": {
      "image/png": "[encoded data removed]",
      "text/plain": [
       "<Figure size 1440x720 with 1 Axes>"
      ]
     },
     "metadata": {
      "needs_background": "light"
     },
     "output_type": "display_data"
    }
   ],
   "source": [
    "plt.figure(figsize=(20,10))\n",
    "sns.boxplot(data=df[['city mpg', 'highway MPG']], palette='Accent')\n",
    "plt.title('boxplot of highway mpg and city mpg', fontsize=15)\n",
    "plt.show()"
   ]
  },
  {
   "cell_type": "code",
   "execution_count": 33,
   "id": "2383af04",
   "metadata": {},
   "outputs": [
    {
     "name": "stderr",
     "output_type": "stream",
     "text": [
      "C:\\Users\\IRDA\\anaconda3\\lib\\site-packages\\seaborn\\_decorators.py:36: FutureWarning: Pass the following variable as a keyword arg: x. From version 0.12, the only valid positional argument will be `data`, and passing other arguments without an explicit keyword will result in an error or misinterpretation.\n",
      "  warnings.warn(\n"
     ]
    },
    {
     "data": {
      "text/plain": [
       "<AxesSubplot:xlabel='Engine HP'>"
      ]
     },
     "execution_count": 33,
     "metadata": {},
     "output_type": "execute_result"
    },
    {
     "data": {
      "image/png": "[encoded data removed]",
      "text/plain": [
       "<Figure size 1440x1080 with 1 Axes>"
      ]
     },
     "metadata": {
      "needs_background": "light"
     },
     "output_type": "display_data"
    }
   ],
   "source": [
    "plt.figure(figsize=(20,15))\n",
    "sns.boxplot(df['Engine HP'])"
   ]
  },
  {
   "cell_type": "code",
   "execution_count": 34,
   "id": "2bf26b07",
   "metadata": {},
   "outputs": [
    {
     "data": {
      "text/plain": [
       "<seaborn.axisgrid.FacetGrid at 0xc156820>"
      ]
     },
     "execution_count": 34,
     "metadata": {},
     "output_type": "execute_result"
    },
    {
     "data": {
      "text/plain": [
       "<Figure size 1440x1080 with 0 Axes>"
      ]
     },
     "metadata": {},
     "output_type": "display_data"
    },
    {
     "data": {
      "image/png": "[encoded data removed]",
      "text/plain": [
       "<Figure size 360x360 with 1 Axes>"
      ]
     },
     "metadata": {
      "needs_background": "light"
     },
     "output_type": "display_data"
    }
   ],
   "source": [
    "plt.figure(figsize=(20,15))\n",
    "sns.lmplot(x='Engine HP', y='Popularity', data=df)"
   ]
  },
  {
   "cell_type": "code",
   "execution_count": 35,
   "id": "264705d2",
   "metadata": {},
   "outputs": [
    {
     "data": {
      "text/plain": [
       "<Figure size 1440x720 with 0 Axes>"
      ]
     },
     "metadata": {},
     "output_type": "display_data"
    },
    {
     "data": {
      "image/png": "[encoded data removed]",
      "text/plain": [
       "<Figure size 360x360 with 1 Axes>"
      ]
     },
     "metadata": {
      "needs_background": "light"
     },
     "output_type": "display_data"
    }
   ],
   "source": [
    "plt.figure(figsize=(20,10))\n",
    "\n",
    "\n",
    "sns.lmplot(x='Engine Cylinders', y='Popularity', data=df)\n",
    "plt.title('engine cylinders vs popularity', fontsize=15)\n",
    "plt.show()"
   ]
  },
  {
   "cell_type": "code",
   "execution_count": 36,
   "id": "1ba0344e",
   "metadata": {},
   "outputs": [
    {
     "data": {
      "image/png": "[encoded data removed]",
      "text/plain": [
       "<Figure size 360x360 with 1 Axes>"
      ]
     },
     "metadata": {
      "needs_background": "light"
     },
     "output_type": "display_data"
    }
   ],
   "source": [
    "sns.lmplot(x='Number of Doors', y='Popularity', data=df)\n",
    "plt.title('lmplot between number of doors vs popularity', fontsize=20)\n",
    "plt.show()"
   ]
  },
  {
   "cell_type": "code",
   "execution_count": 37,
   "id": "463913f2",
   "metadata": {},
   "outputs": [
    {
     "data": {
      "image/png": "[encoded data removed]",
      "text/plain": [
       "<Figure size 360x360 with 1 Axes>"
      ]
     },
     "metadata": {
      "needs_background": "light"
     },
     "output_type": "display_data"
    }
   ],
   "source": [
    "sns.lmplot(x = 'Engine Cylinders', y = 'Engine HP', scatter_kws = {\"s\": 40, \"alpha\": 0.2}, data = data)\n",
    "plt.title(\"Engine Cylinders vs Engine HP\", fontsize = 15)\n",
    "plt.show()"
   ]
  },
  {
   "cell_type": "code",
   "execution_count": 38,
   "id": "811289fa",
   "metadata": {},
   "outputs": [
    {
     "data": {
      "image/png": "[encoded data removed]",
      "text/plain": [
       "<Figure size 360x360 with 1 Axes>"
      ]
     },
     "metadata": {
      "needs_background": "light"
     },
     "output_type": "display_data"
    }
   ],
   "source": [
    "sns.lmplot(x='Engine Cylinders', y='Engine HP', data=df)\n",
    "plt.title('relationship between engine cylinders and engine hp', fontsize=20)\n",
    "plt.show()"
   ]
  },
  {
   "cell_type": "code",
   "execution_count": 39,
   "id": "86cab5d3",
   "metadata": {},
   "outputs": [
    {
     "data": {
      "image/png": "[encoded data removed]",
      "text/plain": [
       "<Figure size 360x360 with 1 Axes>"
      ]
     },
     "metadata": {
      "needs_background": "light"
     },
     "output_type": "display_data"
    }
   ],
   "source": [
    "sns.lmplot(x='highway MPG', y='city mpg', data=df)\n",
    "plt.title('relationship between highway mpg and city mpg', fontsize=15)\n",
    "plt.show()"
   ]
  },
  {
   "cell_type": "code",
   "execution_count": 40,
   "id": "c9c3a1e1",
   "metadata": {},
   "outputs": [
    {
     "data": {
      "image/png": "[encoded data removed]",
      "text/plain": [
       "<Figure size 360x360 with 1 Axes>"
      ]
     },
     "metadata": {
      "needs_background": "light"
     },
     "output_type": "display_data"
    }
   ],
   "source": [
    "sns.lmplot(x='Engine Cylinders', y='city mpg', data=df)\n",
    "plt.title('realtionship between engine cylinders vs city mpg', fontsize=20)\n",
    "plt.show()"
   ]
  },
  {
   "cell_type": "code",
   "execution_count": 41,
   "id": "2136ab9b",
   "metadata": {},
   "outputs": [
    {
     "data": {
      "text/plain": [
       "<AxesSubplot:>"
      ]
     },
     "execution_count": 41,
     "metadata": {},
     "output_type": "execute_result"
    },
    {
     "data": {
      "image/png": "[encoded data removed]",
      "text/plain": [
       "<Figure size 1080x1080 with 2 Axes>"
      ]
     },
     "metadata": {
      "needs_background": "light"
     },
     "output_type": "display_data"
    }
   ],
   "source": [
    "plt.figure(figsize=(15,15))\n",
    "numerical_values = ['Engine HP', 'Engine Cylinders', 'Number of Doors', 'highway MPG', 'city mpg', 'Popularity']\n",
    "heatmap_data = df[numerical_values].corr()\n",
    "\n",
    "sns.heatmap(heatmap_data, cmap='BuPu', annot=True)"
   ]
  },
  {
   "cell_type": "code",
   "execution_count": 42,
   "id": "00e684e9",
   "metadata": {},
   "outputs": [
    {
     "data": {
      "image/png": "[encoded data removed]",
      "text/plain": [
       "<Figure size 1440x1080 with 1 Axes>"
      ]
     },
     "metadata": {
      "needs_background": "light"
     },
     "output_type": "display_data"
    }
   ],
   "source": [
    "plt.figure(figsize=(20,15))\n",
    "df.groupby('Year').mean()['highway MPG'].sort_values(ascending=False).plot(kind='bar', color='darkseagreen')\n",
    "plt.title('average highway mpg for different year', fontsize=20)\n",
    "plt.show()"
   ]
  },
  {
   "cell_type": "code",
   "execution_count": 43,
   "id": "f87952ff",
   "metadata": {},
   "outputs": [
    {
     "data": {
      "text/plain": [
       "Make                    0\n",
       "Model                   0\n",
       "Year                    0\n",
       "Engine Fuel Type        3\n",
       "Engine HP              69\n",
       "Engine Cylinders       30\n",
       "Transmission Type       0\n",
       "Driven_Wheels           0\n",
       "Number of Doors         6\n",
       "Market Category      3742\n",
       "Vehicle Size            0\n",
       "Vehicle Style           0\n",
       "highway MPG             0\n",
       "city mpg                0\n",
       "Popularity              0\n",
       "MSRP                    0\n",
       "dtype: int64"
      ]
     },
     "execution_count": 43,
     "metadata": {},
     "output_type": "execute_result"
    }
   ],
   "source": [
    "df.isnull().sum()"
   ]
  },
  {
   "cell_type": "code",
   "execution_count": 44,
   "id": "c3078dec",
   "metadata": {},
   "outputs": [
    {
     "data": {
      "text/plain": [
       "4.0"
      ]
     },
     "execution_count": 44,
     "metadata": {},
     "output_type": "execute_result"
    }
   ],
   "source": [
    "df['Number of Doors'].median()"
   ]
  },
  {
   "cell_type": "code",
   "execution_count": 45,
   "id": "ab258194",
   "metadata": {},
   "outputs": [],
   "source": [
    "df['Number of Doors'].fillna(4.0, inplace=True)"
   ]
  },
  {
   "cell_type": "code",
   "execution_count": 46,
   "id": "6283b19b",
   "metadata": {},
   "outputs": [
    {
     "data": {
      "text/plain": [
       "0"
      ]
     },
     "execution_count": 46,
     "metadata": {},
     "output_type": "execute_result"
    }
   ],
   "source": [
    "df['Number of Doors'].isnull().sum()"
   ]
  },
  {
   "cell_type": "code",
   "execution_count": 47,
   "id": "a884dfa8",
   "metadata": {},
   "outputs": [],
   "source": [
    "df['present year']= 2021"
   ]
  },
  {
   "cell_type": "code",
   "execution_count": 48,
   "id": "95047d0f",
   "metadata": {},
   "outputs": [
    {
     "data": {
      "text/html": [
       "<div>\n",
       "<style scoped>\n",
       "    .dataframe tbody tr th:only-of-type {\n",
       "        vertical-align: middle;\n",
       "    }\n",
       "\n",
       "    .dataframe tbody tr th {\n",
       "        vertical-align: top;\n",
       "    }\n",
       "\n",
       "    .dataframe thead th {\n",
       "        text-align: right;\n",
       "    }\n",
       "</style>\n",
       "<table border=\"1\" class=\"dataframe\">\n",
       "  <thead>\n",
       "    <tr style=\"text-align: right;\">\n",
       "      <th></th>\n",
       "      <th>Make</th>\n",
       "      <th>Model</th>\n",
       "      <th>Year</th>\n",
       "      <th>Engine Fuel Type</th>\n",
       "      <th>Engine HP</th>\n",
       "      <th>Engine Cylinders</th>\n",
       "      <th>Transmission Type</th>\n",
       "      <th>Driven_Wheels</th>\n",
       "      <th>Number of Doors</th>\n",
       "      <th>Market Category</th>\n",
       "      <th>Vehicle Size</th>\n",
       "      <th>Vehicle Style</th>\n",
       "      <th>highway MPG</th>\n",
       "      <th>city mpg</th>\n",
       "      <th>Popularity</th>\n",
       "      <th>MSRP</th>\n",
       "      <th>present year</th>\n",
       "    </tr>\n",
       "  </thead>\n",
       "  <tbody>\n",
       "    <tr>\n",
       "      <th>0</th>\n",
       "      <td>BMW</td>\n",
       "      <td>1 Series M</td>\n",
       "      <td>2011</td>\n",
       "      <td>premium unleaded (required)</td>\n",
       "      <td>335.0</td>\n",
       "      <td>6.0</td>\n",
       "      <td>MANUAL</td>\n",
       "      <td>rear wheel drive</td>\n",
       "      <td>2.0</td>\n",
       "      <td>Factory Tuner,Luxury,High-Performance</td>\n",
       "      <td>Compact</td>\n",
       "      <td>Coupe</td>\n",
       "      <td>26</td>\n",
       "      <td>19</td>\n",
       "      <td>3916</td>\n",
       "      <td>46135</td>\n",
       "      <td>2021</td>\n",
       "    </tr>\n",
       "    <tr>\n",
       "      <th>1</th>\n",
       "      <td>BMW</td>\n",
       "      <td>1 Series</td>\n",
       "      <td>2011</td>\n",
       "      <td>premium unleaded (required)</td>\n",
       "      <td>300.0</td>\n",
       "      <td>6.0</td>\n",
       "      <td>MANUAL</td>\n",
       "      <td>rear wheel drive</td>\n",
       "      <td>2.0</td>\n",
       "      <td>Luxury,Performance</td>\n",
       "      <td>Compact</td>\n",
       "      <td>Convertible</td>\n",
       "      <td>28</td>\n",
       "      <td>19</td>\n",
       "      <td>3916</td>\n",
       "      <td>40650</td>\n",
       "      <td>2021</td>\n",
       "    </tr>\n",
       "    <tr>\n",
       "      <th>2</th>\n",
       "      <td>BMW</td>\n",
       "      <td>1 Series</td>\n",
       "      <td>2011</td>\n",
       "      <td>premium unleaded (required)</td>\n",
       "      <td>300.0</td>\n",
       "      <td>6.0</td>\n",
       "      <td>MANUAL</td>\n",
       "      <td>rear wheel drive</td>\n",
       "      <td>2.0</td>\n",
       "      <td>Luxury,High-Performance</td>\n",
       "      <td>Compact</td>\n",
       "      <td>Coupe</td>\n",
       "      <td>28</td>\n",
       "      <td>20</td>\n",
       "      <td>3916</td>\n",
       "      <td>36350</td>\n",
       "      <td>2021</td>\n",
       "    </tr>\n",
       "    <tr>\n",
       "      <th>3</th>\n",
       "      <td>BMW</td>\n",
       "      <td>1 Series</td>\n",
       "      <td>2011</td>\n",
       "      <td>premium unleaded (required)</td>\n",
       "      <td>230.0</td>\n",
       "      <td>6.0</td>\n",
       "      <td>MANUAL</td>\n",
       "      <td>rear wheel drive</td>\n",
       "      <td>2.0</td>\n",
       "      <td>Luxury,Performance</td>\n",
       "      <td>Compact</td>\n",
       "      <td>Coupe</td>\n",
       "      <td>28</td>\n",
       "      <td>18</td>\n",
       "      <td>3916</td>\n",
       "      <td>29450</td>\n",
       "      <td>2021</td>\n",
       "    </tr>\n",
       "    <tr>\n",
       "      <th>4</th>\n",
       "      <td>BMW</td>\n",
       "      <td>1 Series</td>\n",
       "      <td>2011</td>\n",
       "      <td>premium unleaded (required)</td>\n",
       "      <td>230.0</td>\n",
       "      <td>6.0</td>\n",
       "      <td>MANUAL</td>\n",
       "      <td>rear wheel drive</td>\n",
       "      <td>2.0</td>\n",
       "      <td>Luxury</td>\n",
       "      <td>Compact</td>\n",
       "      <td>Convertible</td>\n",
       "      <td>28</td>\n",
       "      <td>18</td>\n",
       "      <td>3916</td>\n",
       "      <td>34500</td>\n",
       "      <td>2021</td>\n",
       "    </tr>\n",
       "  </tbody>\n",
       "</table>\n",
       "</div>"
      ],
      "text/plain": [
       "  Make       Model  Year             Engine Fuel Type  Engine HP  \\\n",
       "0  BMW  1 Series M  2011  premium unleaded (required)      335.0   \n",
       "1  BMW    1 Series  2011  premium unleaded (required)      300.0   \n",
       "2  BMW    1 Series  2011  premium unleaded (required)      300.0   \n",
       "3  BMW    1 Series  2011  premium unleaded (required)      230.0   \n",
       "4  BMW    1 Series  2011  premium unleaded (required)      230.0   \n",
       "\n",
       "   Engine Cylinders Transmission Type     Driven_Wheels  Number of Doors  \\\n",
       "0               6.0            MANUAL  rear wheel drive              2.0   \n",
       "1               6.0            MANUAL  rear wheel drive              2.0   \n",
       "2               6.0            MANUAL  rear wheel drive              2.0   \n",
       "3               6.0            MANUAL  rear wheel drive              2.0   \n",
       "4               6.0            MANUAL  rear wheel drive              2.0   \n",
       "\n",
       "                         Market Category Vehicle Size Vehicle Style  \\\n",
       "0  Factory Tuner,Luxury,High-Performance      Compact         Coupe   \n",
       "1                     Luxury,Performance      Compact   Convertible   \n",
       "2                Luxury,High-Performance      Compact         Coupe   \n",
       "3                     Luxury,Performance      Compact         Coupe   \n",
       "4                                 Luxury      Compact   Convertible   \n",
       "\n",
       "   highway MPG  city mpg  Popularity   MSRP  present year  \n",
       "0           26        19        3916  46135          2021  \n",
       "1           28        19        3916  40650          2021  \n",
       "2           28        20        3916  36350          2021  \n",
       "3           28        18        3916  29450          2021  \n",
       "4           28        18        3916  34500          2021  "
      ]
     },
     "execution_count": 48,
     "metadata": {},
     "output_type": "execute_result"
    }
   ],
   "source": [
    "df.head()"
   ]
  },
  {
   "cell_type": "code",
   "execution_count": 49,
   "id": "715ebef7",
   "metadata": {},
   "outputs": [],
   "source": [
    "df['year of manufacture'] = df['present year'] - df['Year']"
   ]
  },
  {
   "cell_type": "code",
   "execution_count": 50,
   "id": "1dd25aa4",
   "metadata": {},
   "outputs": [],
   "source": [
    "df.drop(['present year'], inplace=True, axis=1)"
   ]
  },
  {
   "cell_type": "code",
   "execution_count": 51,
   "id": "d34c0992",
   "metadata": {},
   "outputs": [
    {
     "data": {
      "image/png": "[encoded data removed]",
      "text/plain": [
       "<Figure size 432x288 with 1 Axes>"
      ]
     },
     "metadata": {
      "needs_background": "light"
     },
     "output_type": "display_data"
    }
   ],
   "source": [
    "sns.barplot(y=df['year of manufacture'].value_counts(), x=df['year of manufacture'].value_counts().index)\n",
    "plt.title('Total number of cars with particular year of manfacture', fontsize=20)\n",
    "plt.show()"
   ]
  },
  {
   "cell_type": "code",
   "execution_count": 52,
   "id": "46d700d7",
   "metadata": {},
   "outputs": [
    {
     "data": {
      "text/plain": [
       "array(['premium unleaded (required)', 'regular unleaded',\n",
       "       'premium unleaded (recommended)', 'flex-fuel (unleaded/E85)',\n",
       "       'diesel', 'electric',\n",
       "       'flex-fuel (premium unleaded recommended/E85)', 'natural gas',\n",
       "       'flex-fuel (premium unleaded required/E85)',\n",
       "       'flex-fuel (unleaded/natural gas)', nan], dtype=object)"
      ]
     },
     "execution_count": 52,
     "metadata": {},
     "output_type": "execute_result"
    }
   ],
   "source": [
    "df['Engine Fuel Type'].unique()"
   ]
  },
  {
   "cell_type": "code",
   "execution_count": 53,
   "id": "34c87e5c",
   "metadata": {},
   "outputs": [
    {
     "data": {
      "text/plain": [
       "str"
      ]
     },
     "execution_count": 53,
     "metadata": {},
     "output_type": "execute_result"
    }
   ],
   "source": [
    "type(\"df['Engine Fuel Type'].mode()\")"
   ]
  },
  {
   "cell_type": "code",
   "execution_count": 54,
   "id": "9d3074c7",
   "metadata": {},
   "outputs": [],
   "source": [
    "df['Engine Fuel Type'].fillna(\"df['Engine Fuel Type']\", inplace=True )"
   ]
  },
  {
   "cell_type": "code",
   "execution_count": 55,
   "id": "6d7586f1",
   "metadata": {},
   "outputs": [
    {
     "data": {
      "text/plain": [
       "0"
      ]
     },
     "execution_count": 55,
     "metadata": {},
     "output_type": "execute_result"
    }
   ],
   "source": [
    "df['Engine Fuel Type'].isnull().sum()"
   ]
  },
  {
   "cell_type": "code",
   "execution_count": 56,
   "id": "997cca10",
   "metadata": {},
   "outputs": [
    {
     "data": {
      "text/plain": [
       "Make                      0\n",
       "Model                     0\n",
       "Year                      0\n",
       "Engine Fuel Type          0\n",
       "Engine HP                69\n",
       "Engine Cylinders         30\n",
       "Transmission Type         0\n",
       "Driven_Wheels             0\n",
       "Number of Doors           0\n",
       "Market Category        3742\n",
       "Vehicle Size              0\n",
       "Vehicle Style             0\n",
       "highway MPG               0\n",
       "city mpg                  0\n",
       "Popularity                0\n",
       "MSRP                      0\n",
       "year of manufacture       0\n",
       "dtype: int64"
      ]
     },
     "execution_count": 56,
     "metadata": {},
     "output_type": "execute_result"
    }
   ],
   "source": [
    "df.isnull().sum()"
   ]
  },
  {
   "cell_type": "code",
   "execution_count": 57,
   "id": "35f2a384",
   "metadata": {},
   "outputs": [
    {
     "data": {
      "text/plain": [
       "249.38607007176023"
      ]
     },
     "execution_count": 57,
     "metadata": {},
     "output_type": "execute_result"
    }
   ],
   "source": [
    "df['Engine HP'].mean()"
   ]
  },
  {
   "cell_type": "code",
   "execution_count": 58,
   "id": "5ac53435",
   "metadata": {},
   "outputs": [
    {
     "data": {
      "text/plain": [
       "227.0"
      ]
     },
     "execution_count": 58,
     "metadata": {},
     "output_type": "execute_result"
    }
   ],
   "source": [
    "df['Engine HP'].median()"
   ]
  },
  {
   "cell_type": "code",
   "execution_count": 59,
   "id": "4ad32926",
   "metadata": {},
   "outputs": [],
   "source": [
    "df['Engine HP'].fillna(df['Engine HP'].median(), inplace=True)"
   ]
  },
  {
   "cell_type": "code",
   "execution_count": 60,
   "id": "c766179d",
   "metadata": {},
   "outputs": [
    {
     "data": {
      "text/plain": [
       "0"
      ]
     },
     "execution_count": 60,
     "metadata": {},
     "output_type": "execute_result"
    }
   ],
   "source": [
    "df['Engine HP'].isnull().sum()"
   ]
  },
  {
   "cell_type": "code",
   "execution_count": 61,
   "id": "c44d083f",
   "metadata": {},
   "outputs": [
    {
     "data": {
      "text/plain": [
       "array([ 6.,  4.,  5.,  8., 12.,  0., nan, 10.,  3., 16.])"
      ]
     },
     "execution_count": 61,
     "metadata": {},
     "output_type": "execute_result"
    }
   ],
   "source": [
    "df['Engine Cylinders'].unique()"
   ]
  },
  {
   "cell_type": "code",
   "execution_count": 62,
   "id": "f6ccf4be",
   "metadata": {},
   "outputs": [],
   "source": [
    "df['Engine Cylinders'].fillna(4, inplace=True)"
   ]
  },
  {
   "cell_type": "code",
   "execution_count": 63,
   "id": "58e30383",
   "metadata": {},
   "outputs": [
    {
     "data": {
      "text/plain": [
       "0"
      ]
     },
     "execution_count": 63,
     "metadata": {},
     "output_type": "execute_result"
    }
   ],
   "source": [
    "df['Engine Cylinders'].isnull().sum()"
   ]
  },
  {
   "cell_type": "code",
   "execution_count": 64,
   "id": "22c6b348",
   "metadata": {},
   "outputs": [
    {
     "data": {
      "text/plain": [
       "Make                      0\n",
       "Model                     0\n",
       "Year                      0\n",
       "Engine Fuel Type          0\n",
       "Engine HP                 0\n",
       "Engine Cylinders          0\n",
       "Transmission Type         0\n",
       "Driven_Wheels             0\n",
       "Number of Doors           0\n",
       "Market Category        3742\n",
       "Vehicle Size              0\n",
       "Vehicle Style             0\n",
       "highway MPG               0\n",
       "city mpg                  0\n",
       "Popularity                0\n",
       "MSRP                      0\n",
       "year of manufacture       0\n",
       "dtype: int64"
      ]
     },
     "execution_count": 64,
     "metadata": {},
     "output_type": "execute_result"
    }
   ],
   "source": [
    "df.isnull().sum()"
   ]
  },
  {
   "cell_type": "code",
   "execution_count": 65,
   "id": "2168beaf",
   "metadata": {},
   "outputs": [],
   "source": [
    "df.drop(['Market Category'], inplace=True, axis=1)"
   ]
  },
  {
   "cell_type": "code",
   "execution_count": 66,
   "id": "ecf118aa",
   "metadata": {},
   "outputs": [
    {
     "data": {
      "text/plain": [
       "Make                   0\n",
       "Model                  0\n",
       "Year                   0\n",
       "Engine Fuel Type       0\n",
       "Engine HP              0\n",
       "Engine Cylinders       0\n",
       "Transmission Type      0\n",
       "Driven_Wheels          0\n",
       "Number of Doors        0\n",
       "Vehicle Size           0\n",
       "Vehicle Style          0\n",
       "highway MPG            0\n",
       "city mpg               0\n",
       "Popularity             0\n",
       "MSRP                   0\n",
       "year of manufacture    0\n",
       "dtype: int64"
      ]
     },
     "execution_count": 66,
     "metadata": {},
     "output_type": "execute_result"
    }
   ],
   "source": [
    "df.isnull().sum()"
   ]
  },
  {
   "cell_type": "code",
   "execution_count": 67,
   "id": "0d1c0c9e",
   "metadata": {
    "scrolled": true
   },
   "outputs": [
    {
     "name": "stdout",
     "output_type": "stream",
     "text": [
      "<class 'pandas.core.frame.DataFrame'>\n",
      "RangeIndex: 11914 entries, 0 to 11913\n",
      "Data columns (total 16 columns):\n",
      " #   Column               Non-Null Count  Dtype  \n",
      "---  ------               --------------  -----  \n",
      " 0   Make                 11914 non-null  object \n",
      " 1   Model                11914 non-null  object \n",
      " 2   Year                 11914 non-null  int64  \n",
      " 3   Engine Fuel Type     11914 non-null  object \n",
      " 4   Engine HP            11914 non-null  float64\n",
      " 5   Engine Cylinders     11914 non-null  float64\n",
      " 6   Transmission Type    11914 non-null  object \n",
      " 7   Driven_Wheels        11914 non-null  object \n",
      " 8   Number of Doors      11914 non-null  float64\n",
      " 9   Vehicle Size         11914 non-null  object \n",
      " 10  Vehicle Style        11914 non-null  object \n",
      " 11  highway MPG          11914 non-null  int64  \n",
      " 12  city mpg             11914 non-null  int64  \n",
      " 13  Popularity           11914 non-null  int64  \n",
      " 14  MSRP                 11914 non-null  int64  \n",
      " 15  year of manufacture  11914 non-null  int64  \n",
      "dtypes: float64(3), int64(6), object(7)\n",
      "memory usage: 1.1+ MB\n"
     ]
    }
   ],
   "source": [
    "df.info()"
   ]
  },
  {
   "cell_type": "code",
   "execution_count": 68,
   "id": "76de2506",
   "metadata": {},
   "outputs": [
    {
     "data": {
      "text/plain": [
       "array(['Compact', 'Midsize', 'Large'], dtype=object)"
      ]
     },
     "execution_count": 68,
     "metadata": {},
     "output_type": "execute_result"
    }
   ],
   "source": [
    "df['Vehicle Size'].unique()"
   ]
  },
  {
   "cell_type": "code",
   "execution_count": 69,
   "id": "31dfafe3",
   "metadata": {},
   "outputs": [
    {
     "data": {
      "text/plain": [
       "array(['Coupe', 'Convertible', 'Sedan', 'Wagon', '4dr Hatchback',\n",
       "       '2dr Hatchback', '4dr SUV', 'Passenger Minivan', 'Cargo Minivan',\n",
       "       'Crew Cab Pickup', 'Regular Cab Pickup', 'Extended Cab Pickup',\n",
       "       '2dr SUV', 'Cargo Van', 'Convertible SUV', 'Passenger Van'],\n",
       "      dtype=object)"
      ]
     },
     "execution_count": 69,
     "metadata": {},
     "output_type": "execute_result"
    }
   ],
   "source": [
    "df['Vehicle Style'].unique()"
   ]
  },
  {
   "cell_type": "code",
   "execution_count": null,
   "id": "82c2a815",
   "metadata": {},
   "outputs": [],
   "source": []
  },
  {
   "cell_type": "markdown",
   "id": "00388f2b",
   "metadata": {},
   "source": [
    "### manipulation of data"
   ]
  },
  {
   "cell_type": "code",
   "execution_count": 70,
   "id": "dbf3c061",
   "metadata": {},
   "outputs": [
    {
     "name": "stdout",
     "output_type": "stream",
     "text": [
      "Requirement already satisfied: category_encoders in c:\\users\\irda\\anaconda3\\lib\\site-packages (2.6.3)\n",
      "Requirement already satisfied: scipy>=1.0.0 in c:\\users\\irda\\anaconda3\\lib\\site-packages (from category_encoders) (1.7.3)\n",
      "Requirement already satisfied: scikit-learn>=0.20.0 in c:\\users\\irda\\anaconda3\\lib\\site-packages (from category_encoders) (1.0.2)\n",
      "Requirement already satisfied: numpy>=1.14.0 in c:\\users\\irda\\anaconda3\\lib\\site-packages (from category_encoders) (1.21.5)\n",
      "Requirement already satisfied: pandas>=1.0.5 in c:\\users\\irda\\anaconda3\\lib\\site-packages (from category_encoders) (1.4.2)\n",
      "Requirement already satisfied: patsy>=0.5.1 in c:\\users\\irda\\anaconda3\\lib\\site-packages (from category_encoders) (0.5.2)\n",
      "Requirement already satisfied: statsmodels>=0.9.0 in c:\\users\\irda\\anaconda3\\lib\\site-packages (from category_encoders) (0.13.2)\n",
      "Requirement already satisfied: pytz>=2020.1 in c:\\users\\irda\\anaconda3\\lib\\site-packages (from pandas>=1.0.5->category_encoders) (2021.3)\n",
      "Requirement already satisfied: python-dateutil>=2.8.1 in c:\\users\\irda\\anaconda3\\lib\\site-packages (from pandas>=1.0.5->category_encoders) (2.8.2)\n",
      "Requirement already satisfied: six in c:\\users\\irda\\anaconda3\\lib\\site-packages (from patsy>=0.5.1->category_encoders) (1.16.0)\n",
      "Requirement already satisfied: joblib>=0.11 in c:\\users\\irda\\anaconda3\\lib\\site-packages (from scikit-learn>=0.20.0->category_encoders) (1.1.0)\n",
      "Requirement already satisfied: threadpoolctl>=2.0.0 in c:\\users\\irda\\anaconda3\\lib\\site-packages (from scikit-learn>=0.20.0->category_encoders) (2.2.0)\n",
      "Requirement already satisfied: packaging>=21.3 in c:\\users\\irda\\anaconda3\\lib\\site-packages (from statsmodels>=0.9.0->category_encoders) (21.3)\n",
      "Requirement already satisfied: pyparsing!=3.0.5,>=2.0.2 in c:\\users\\irda\\anaconda3\\lib\\site-packages (from packaging>=21.3->statsmodels>=0.9.0->category_encoders) (3.0.4)\n",
      "Note: you may need to restart the kernel to use updated packages.\n"
     ]
    }
   ],
   "source": [
    "pip install category_encoders"
   ]
  },
  {
   "cell_type": "code",
   "execution_count": 71,
   "id": "d1bf1cae",
   "metadata": {},
   "outputs": [],
   "source": [
    "from sklearn.utils import shuffle \n",
    "from category_encoders import TargetEncoder, OneHotEncoder\n",
    "import warnings\n",
    "warnings.filterwarnings(\"ignore\")\n",
    "sns.set(rc = {'figure.figsize': (20, 20)})"
   ]
  },
  {
   "cell_type": "code",
   "execution_count": 72,
   "id": "0cae5bce",
   "metadata": {},
   "outputs": [],
   "source": [
    "shuffle_data = shuffle(df, random_state=100)\n",
    "X = shuffle_data.drop(['MSRP'], axis=1)\n",
    "y = shuffle_data['MSRP']"
   ]
  },
  {
   "cell_type": "code",
   "execution_count": 73,
   "id": "4ab6766f",
   "metadata": {},
   "outputs": [],
   "source": [
    "X_train, X_test, y_train, y_test = train_test_split(X, y, test_size=0.2, random_state=100)"
   ]
  },
  {
   "cell_type": "code",
   "execution_count": 74,
   "id": "7beb5a46",
   "metadata": {},
   "outputs": [
    {
     "name": "stdout",
     "output_type": "stream",
     "text": [
      "The size of the input train data is:(9531, 15)\n",
      "The size of the output train data is:(9531,)\n",
      "The size of the input test data is:(2383, 15)\n",
      "The size of the output test data is:(2383,)\n"
     ]
    }
   ],
   "source": [
    "print(\"The size of the input train data is:{}\".format(X_train.shape))\n",
    "print(\"The size of the output train data is:{}\".format(y_train.shape))\n",
    "print(\"The size of the input test data is:{}\".format(X_test.shape))\n",
    "print(\"The size of the output test data is:{}\".format(y_test.shape))"
   ]
  },
  {
   "cell_type": "code",
   "execution_count": null,
   "id": "1aca84a7",
   "metadata": {},
   "outputs": [],
   "source": []
  },
  {
   "cell_type": "markdown",
   "id": "c3c837a9",
   "metadata": {},
   "source": [
    "### encoding the data"
   ]
  },
  {
   "cell_type": "code",
   "execution_count": 75,
   "id": "7ee83de3",
   "metadata": {},
   "outputs": [],
   "source": [
    "encoder = TargetEncoder(cols='Year')"
   ]
  },
  {
   "cell_type": "code",
   "execution_count": 76,
   "id": "a54f7808",
   "metadata": {},
   "outputs": [
    {
     "data": {
      "text/html": [
       "<div>\n",
       "<style scoped>\n",
       "    .dataframe tbody tr th:only-of-type {\n",
       "        vertical-align: middle;\n",
       "    }\n",
       "\n",
       "    .dataframe tbody tr th {\n",
       "        vertical-align: top;\n",
       "    }\n",
       "\n",
       "    .dataframe thead th {\n",
       "        text-align: right;\n",
       "    }\n",
       "</style>\n",
       "<table border=\"1\" class=\"dataframe\">\n",
       "  <thead>\n",
       "    <tr style=\"text-align: right;\">\n",
       "      <th></th>\n",
       "      <th>Make</th>\n",
       "      <th>Model</th>\n",
       "      <th>Year</th>\n",
       "      <th>Engine Fuel Type</th>\n",
       "      <th>Engine HP</th>\n",
       "      <th>Engine Cylinders</th>\n",
       "      <th>Transmission Type</th>\n",
       "      <th>Driven_Wheels</th>\n",
       "      <th>Number of Doors</th>\n",
       "      <th>Vehicle Size</th>\n",
       "      <th>Vehicle Style</th>\n",
       "      <th>highway MPG</th>\n",
       "      <th>city mpg</th>\n",
       "      <th>Popularity</th>\n",
       "      <th>year of manufacture</th>\n",
       "    </tr>\n",
       "  </thead>\n",
       "  <tbody>\n",
       "    <tr>\n",
       "      <th>10938</th>\n",
       "      <td>Toyota</td>\n",
       "      <td>Tundra</td>\n",
       "      <td>2015</td>\n",
       "      <td>flex-fuel (unleaded/E85)</td>\n",
       "      <td>381.0</td>\n",
       "      <td>8.0</td>\n",
       "      <td>AUTOMATIC</td>\n",
       "      <td>four wheel drive</td>\n",
       "      <td>4.0</td>\n",
       "      <td>Large</td>\n",
       "      <td>Extended Cab Pickup</td>\n",
       "      <td>17</td>\n",
       "      <td>13</td>\n",
       "      <td>2031</td>\n",
       "      <td>6</td>\n",
       "    </tr>\n",
       "    <tr>\n",
       "      <th>1223</th>\n",
       "      <td>Honda</td>\n",
       "      <td>Accord</td>\n",
       "      <td>2015</td>\n",
       "      <td>regular unleaded</td>\n",
       "      <td>185.0</td>\n",
       "      <td>4.0</td>\n",
       "      <td>AUTOMATIC</td>\n",
       "      <td>front wheel drive</td>\n",
       "      <td>4.0</td>\n",
       "      <td>Midsize</td>\n",
       "      <td>Sedan</td>\n",
       "      <td>36</td>\n",
       "      <td>27</td>\n",
       "      <td>2202</td>\n",
       "      <td>6</td>\n",
       "    </tr>\n",
       "    <tr>\n",
       "      <th>472</th>\n",
       "      <td>Ferrari</td>\n",
       "      <td>458 Italia</td>\n",
       "      <td>2015</td>\n",
       "      <td>premium unleaded (required)</td>\n",
       "      <td>562.0</td>\n",
       "      <td>8.0</td>\n",
       "      <td>AUTOMATED_MANUAL</td>\n",
       "      <td>rear wheel drive</td>\n",
       "      <td>2.0</td>\n",
       "      <td>Compact</td>\n",
       "      <td>Convertible</td>\n",
       "      <td>17</td>\n",
       "      <td>13</td>\n",
       "      <td>2774</td>\n",
       "      <td>6</td>\n",
       "    </tr>\n",
       "    <tr>\n",
       "      <th>8150</th>\n",
       "      <td>Dodge</td>\n",
       "      <td>Ram Pickup 1500</td>\n",
       "      <td>2008</td>\n",
       "      <td>regular unleaded</td>\n",
       "      <td>310.0</td>\n",
       "      <td>8.0</td>\n",
       "      <td>MANUAL</td>\n",
       "      <td>four wheel drive</td>\n",
       "      <td>4.0</td>\n",
       "      <td>Large</td>\n",
       "      <td>Crew Cab Pickup</td>\n",
       "      <td>16</td>\n",
       "      <td>12</td>\n",
       "      <td>1851</td>\n",
       "      <td>13</td>\n",
       "    </tr>\n",
       "    <tr>\n",
       "      <th>2038</th>\n",
       "      <td>Ford</td>\n",
       "      <td>Bronco</td>\n",
       "      <td>1996</td>\n",
       "      <td>regular unleaded</td>\n",
       "      <td>199.0</td>\n",
       "      <td>8.0</td>\n",
       "      <td>MANUAL</td>\n",
       "      <td>four wheel drive</td>\n",
       "      <td>2.0</td>\n",
       "      <td>Midsize</td>\n",
       "      <td>2dr SUV</td>\n",
       "      <td>16</td>\n",
       "      <td>13</td>\n",
       "      <td>5657</td>\n",
       "      <td>25</td>\n",
       "    </tr>\n",
       "    <tr>\n",
       "      <th>9242</th>\n",
       "      <td>Toyota</td>\n",
       "      <td>Sienna</td>\n",
       "      <td>2017</td>\n",
       "      <td>regular unleaded</td>\n",
       "      <td>296.0</td>\n",
       "      <td>6.0</td>\n",
       "      <td>AUTOMATIC</td>\n",
       "      <td>front wheel drive</td>\n",
       "      <td>4.0</td>\n",
       "      <td>Large</td>\n",
       "      <td>Passenger Minivan</td>\n",
       "      <td>27</td>\n",
       "      <td>19</td>\n",
       "      <td>2031</td>\n",
       "      <td>4</td>\n",
       "    </tr>\n",
       "    <tr>\n",
       "      <th>10963</th>\n",
       "      <td>Toyota</td>\n",
       "      <td>Tundra</td>\n",
       "      <td>2015</td>\n",
       "      <td>flex-fuel (unleaded/E85)</td>\n",
       "      <td>381.0</td>\n",
       "      <td>8.0</td>\n",
       "      <td>AUTOMATIC</td>\n",
       "      <td>four wheel drive</td>\n",
       "      <td>4.0</td>\n",
       "      <td>Large</td>\n",
       "      <td>Crew Cab Pickup</td>\n",
       "      <td>17</td>\n",
       "      <td>13</td>\n",
       "      <td>2031</td>\n",
       "      <td>6</td>\n",
       "    </tr>\n",
       "    <tr>\n",
       "      <th>11080</th>\n",
       "      <td>Chevrolet</td>\n",
       "      <td>Uplander</td>\n",
       "      <td>2007</td>\n",
       "      <td>regular unleaded</td>\n",
       "      <td>240.0</td>\n",
       "      <td>6.0</td>\n",
       "      <td>AUTOMATIC</td>\n",
       "      <td>front wheel drive</td>\n",
       "      <td>4.0</td>\n",
       "      <td>Midsize</td>\n",
       "      <td>Passenger Minivan</td>\n",
       "      <td>23</td>\n",
       "      <td>16</td>\n",
       "      <td>1385</td>\n",
       "      <td>14</td>\n",
       "    </tr>\n",
       "    <tr>\n",
       "      <th>2553</th>\n",
       "      <td>Honda</td>\n",
       "      <td>Civic</td>\n",
       "      <td>2015</td>\n",
       "      <td>premium unleaded (required)</td>\n",
       "      <td>205.0</td>\n",
       "      <td>4.0</td>\n",
       "      <td>MANUAL</td>\n",
       "      <td>front wheel drive</td>\n",
       "      <td>2.0</td>\n",
       "      <td>Compact</td>\n",
       "      <td>Coupe</td>\n",
       "      <td>31</td>\n",
       "      <td>22</td>\n",
       "      <td>2202</td>\n",
       "      <td>6</td>\n",
       "    </tr>\n",
       "    <tr>\n",
       "      <th>10027</th>\n",
       "      <td>Cadillac</td>\n",
       "      <td>STS</td>\n",
       "      <td>2010</td>\n",
       "      <td>premium unleaded (recommended)</td>\n",
       "      <td>320.0</td>\n",
       "      <td>8.0</td>\n",
       "      <td>AUTOMATIC</td>\n",
       "      <td>rear wheel drive</td>\n",
       "      <td>4.0</td>\n",
       "      <td>Large</td>\n",
       "      <td>Sedan</td>\n",
       "      <td>24</td>\n",
       "      <td>15</td>\n",
       "      <td>1624</td>\n",
       "      <td>11</td>\n",
       "    </tr>\n",
       "  </tbody>\n",
       "</table>\n",
       "</div>"
      ],
      "text/plain": [
       "            Make            Model  Year                Engine Fuel Type  \\\n",
       "10938     Toyota           Tundra  2015        flex-fuel (unleaded/E85)   \n",
       "1223       Honda           Accord  2015                regular unleaded   \n",
       "472      Ferrari       458 Italia  2015     premium unleaded (required)   \n",
       "8150       Dodge  Ram Pickup 1500  2008                regular unleaded   \n",
       "2038        Ford           Bronco  1996                regular unleaded   \n",
       "9242      Toyota           Sienna  2017                regular unleaded   \n",
       "10963     Toyota           Tundra  2015        flex-fuel (unleaded/E85)   \n",
       "11080  Chevrolet         Uplander  2007                regular unleaded   \n",
       "2553       Honda            Civic  2015     premium unleaded (required)   \n",
       "10027   Cadillac              STS  2010  premium unleaded (recommended)   \n",
       "\n",
       "       Engine HP  Engine Cylinders Transmission Type      Driven_Wheels  \\\n",
       "10938      381.0               8.0         AUTOMATIC   four wheel drive   \n",
       "1223       185.0               4.0         AUTOMATIC  front wheel drive   \n",
       "472        562.0               8.0  AUTOMATED_MANUAL   rear wheel drive   \n",
       "8150       310.0               8.0            MANUAL   four wheel drive   \n",
       "2038       199.0               8.0            MANUAL   four wheel drive   \n",
       "9242       296.0               6.0         AUTOMATIC  front wheel drive   \n",
       "10963      381.0               8.0         AUTOMATIC   four wheel drive   \n",
       "11080      240.0               6.0         AUTOMATIC  front wheel drive   \n",
       "2553       205.0               4.0            MANUAL  front wheel drive   \n",
       "10027      320.0               8.0         AUTOMATIC   rear wheel drive   \n",
       "\n",
       "       Number of Doors Vehicle Size        Vehicle Style  highway MPG  \\\n",
       "10938              4.0        Large  Extended Cab Pickup           17   \n",
       "1223               4.0      Midsize                Sedan           36   \n",
       "472                2.0      Compact          Convertible           17   \n",
       "8150               4.0        Large      Crew Cab Pickup           16   \n",
       "2038               2.0      Midsize              2dr SUV           16   \n",
       "9242               4.0        Large    Passenger Minivan           27   \n",
       "10963              4.0        Large      Crew Cab Pickup           17   \n",
       "11080              4.0      Midsize    Passenger Minivan           23   \n",
       "2553               2.0      Compact                Coupe           31   \n",
       "10027              4.0        Large                Sedan           24   \n",
       "\n",
       "       city mpg  Popularity  year of manufacture  \n",
       "10938        13        2031                    6  \n",
       "1223         27        2202                    6  \n",
       "472          13        2774                    6  \n",
       "8150         12        1851                   13  \n",
       "2038         13        5657                   25  \n",
       "9242         19        2031                    4  \n",
       "10963        13        2031                    6  \n",
       "11080        16        1385                   14  \n",
       "2553         22        2202                    6  \n",
       "10027        15        1624                   11  "
      ]
     },
     "execution_count": 76,
     "metadata": {},
     "output_type": "execute_result"
    }
   ],
   "source": [
    "X_train.head(10)"
   ]
  },
  {
   "cell_type": "code",
   "execution_count": 77,
   "id": "a6d5daea",
   "metadata": {},
   "outputs": [
    {
     "data": {
      "text/plain": [
       "TargetEncoder(cols=['Year'])"
      ]
     },
     "execution_count": 77,
     "metadata": {},
     "output_type": "execute_result"
    }
   ],
   "source": [
    "encoder.fit(X_train['Year'], y_train.to_frame()['MSRP'])"
   ]
  },
  {
   "cell_type": "code",
   "execution_count": 78,
   "id": "960615af",
   "metadata": {},
   "outputs": [],
   "source": [
    "X_test['Year'] = encoder.transform(X_test['Year'])"
   ]
  },
  {
   "cell_type": "code",
   "execution_count": null,
   "id": "b1576338",
   "metadata": {},
   "outputs": [],
   "source": []
  },
  {
   "cell_type": "code",
   "execution_count": 79,
   "id": "6d5b81c4",
   "metadata": {},
   "outputs": [
    {
     "data": {
      "text/html": [
       "<div>\n",
       "<style scoped>\n",
       "    .dataframe tbody tr th:only-of-type {\n",
       "        vertical-align: middle;\n",
       "    }\n",
       "\n",
       "    .dataframe tbody tr th {\n",
       "        vertical-align: top;\n",
       "    }\n",
       "\n",
       "    .dataframe thead th {\n",
       "        text-align: right;\n",
       "    }\n",
       "</style>\n",
       "<table border=\"1\" class=\"dataframe\">\n",
       "  <thead>\n",
       "    <tr style=\"text-align: right;\">\n",
       "      <th></th>\n",
       "      <th>Make</th>\n",
       "      <th>Model</th>\n",
       "      <th>Year</th>\n",
       "      <th>Engine Fuel Type</th>\n",
       "      <th>Engine HP</th>\n",
       "      <th>Engine Cylinders</th>\n",
       "      <th>Transmission Type</th>\n",
       "      <th>Driven_Wheels</th>\n",
       "      <th>Number of Doors</th>\n",
       "      <th>Vehicle Size</th>\n",
       "      <th>Vehicle Style</th>\n",
       "      <th>highway MPG</th>\n",
       "      <th>city mpg</th>\n",
       "      <th>Popularity</th>\n",
       "      <th>year of manufacture</th>\n",
       "    </tr>\n",
       "  </thead>\n",
       "  <tbody>\n",
       "    <tr>\n",
       "      <th>1451</th>\n",
       "      <td>Nissan</td>\n",
       "      <td>Armada</td>\n",
       "      <td>42214.467464</td>\n",
       "      <td>regular unleaded</td>\n",
       "      <td>390.0</td>\n",
       "      <td>8.0</td>\n",
       "      <td>AUTOMATIC</td>\n",
       "      <td>four wheel drive</td>\n",
       "      <td>4.0</td>\n",
       "      <td>Large</td>\n",
       "      <td>4dr SUV</td>\n",
       "      <td>18</td>\n",
       "      <td>13</td>\n",
       "      <td>2009</td>\n",
       "      <td>4</td>\n",
       "    </tr>\n",
       "    <tr>\n",
       "      <th>5801</th>\n",
       "      <td>Acura</td>\n",
       "      <td>ILX</td>\n",
       "      <td>47425.389850</td>\n",
       "      <td>premium unleaded (recommended)</td>\n",
       "      <td>150.0</td>\n",
       "      <td>4.0</td>\n",
       "      <td>AUTOMATIC</td>\n",
       "      <td>front wheel drive</td>\n",
       "      <td>4.0</td>\n",
       "      <td>Compact</td>\n",
       "      <td>Sedan</td>\n",
       "      <td>35</td>\n",
       "      <td>24</td>\n",
       "      <td>204</td>\n",
       "      <td>6</td>\n",
       "    </tr>\n",
       "    <tr>\n",
       "      <th>4820</th>\n",
       "      <td>Suzuki</td>\n",
       "      <td>Forenza</td>\n",
       "      <td>34327.714286</td>\n",
       "      <td>regular unleaded</td>\n",
       "      <td>127.0</td>\n",
       "      <td>4.0</td>\n",
       "      <td>AUTOMATIC</td>\n",
       "      <td>front wheel drive</td>\n",
       "      <td>4.0</td>\n",
       "      <td>Compact</td>\n",
       "      <td>Wagon</td>\n",
       "      <td>27</td>\n",
       "      <td>19</td>\n",
       "      <td>481</td>\n",
       "      <td>14</td>\n",
       "    </tr>\n",
       "    <tr>\n",
       "      <th>11756</th>\n",
       "      <td>Nissan</td>\n",
       "      <td>Xterra</td>\n",
       "      <td>65987.550420</td>\n",
       "      <td>regular unleaded</td>\n",
       "      <td>261.0</td>\n",
       "      <td>6.0</td>\n",
       "      <td>AUTOMATIC</td>\n",
       "      <td>rear wheel drive</td>\n",
       "      <td>4.0</td>\n",
       "      <td>Midsize</td>\n",
       "      <td>4dr SUV</td>\n",
       "      <td>22</td>\n",
       "      <td>16</td>\n",
       "      <td>2009</td>\n",
       "      <td>7</td>\n",
       "    </tr>\n",
       "    <tr>\n",
       "      <th>6854</th>\n",
       "      <td>Lincoln</td>\n",
       "      <td>MKC</td>\n",
       "      <td>42214.467464</td>\n",
       "      <td>regular unleaded</td>\n",
       "      <td>240.0</td>\n",
       "      <td>4.0</td>\n",
       "      <td>AUTOMATIC</td>\n",
       "      <td>all wheel drive</td>\n",
       "      <td>4.0</td>\n",
       "      <td>Compact</td>\n",
       "      <td>4dr SUV</td>\n",
       "      <td>25</td>\n",
       "      <td>19</td>\n",
       "      <td>61</td>\n",
       "      <td>4</td>\n",
       "    </tr>\n",
       "  </tbody>\n",
       "</table>\n",
       "</div>"
      ],
      "text/plain": [
       "          Make    Model          Year                Engine Fuel Type  \\\n",
       "1451    Nissan   Armada  42214.467464                regular unleaded   \n",
       "5801     Acura      ILX  47425.389850  premium unleaded (recommended)   \n",
       "4820    Suzuki  Forenza  34327.714286                regular unleaded   \n",
       "11756   Nissan   Xterra  65987.550420                regular unleaded   \n",
       "6854   Lincoln      MKC  42214.467464                regular unleaded   \n",
       "\n",
       "       Engine HP  Engine Cylinders Transmission Type      Driven_Wheels  \\\n",
       "1451       390.0               8.0         AUTOMATIC   four wheel drive   \n",
       "5801       150.0               4.0         AUTOMATIC  front wheel drive   \n",
       "4820       127.0               4.0         AUTOMATIC  front wheel drive   \n",
       "11756      261.0               6.0         AUTOMATIC   rear wheel drive   \n",
       "6854       240.0               4.0         AUTOMATIC    all wheel drive   \n",
       "\n",
       "       Number of Doors Vehicle Size Vehicle Style  highway MPG  city mpg  \\\n",
       "1451               4.0        Large       4dr SUV           18        13   \n",
       "5801               4.0      Compact         Sedan           35        24   \n",
       "4820               4.0      Compact         Wagon           27        19   \n",
       "11756              4.0      Midsize       4dr SUV           22        16   \n",
       "6854               4.0      Compact       4dr SUV           25        19   \n",
       "\n",
       "       Popularity  year of manufacture  \n",
       "1451         2009                    4  \n",
       "5801          204                    6  \n",
       "4820          481                   14  \n",
       "11756        2009                    7  \n",
       "6854           61                    4  "
      ]
     },
     "execution_count": 79,
     "metadata": {},
     "output_type": "execute_result"
    }
   ],
   "source": [
    "X_test.head()"
   ]
  },
  {
   "cell_type": "code",
   "execution_count": 80,
   "id": "c10c7aaa",
   "metadata": {},
   "outputs": [],
   "source": [
    "encoder = TargetEncoder(cols='Model')\n",
    "encoder.fit(X_train['Model'], y_train.to_frame()['MSRP'])\n",
    "X_train['Model'] = encoder.transform(X_train['Model'])\n",
    "X_test['Model'] = encoder.transform(X_test['Model'])"
   ]
  },
  {
   "cell_type": "code",
   "execution_count": 81,
   "id": "b9973f8e",
   "metadata": {},
   "outputs": [
    {
     "data": {
      "text/html": [
       "<div>\n",
       "<style scoped>\n",
       "    .dataframe tbody tr th:only-of-type {\n",
       "        vertical-align: middle;\n",
       "    }\n",
       "\n",
       "    .dataframe tbody tr th {\n",
       "        vertical-align: top;\n",
       "    }\n",
       "\n",
       "    .dataframe thead th {\n",
       "        text-align: right;\n",
       "    }\n",
       "</style>\n",
       "<table border=\"1\" class=\"dataframe\">\n",
       "  <thead>\n",
       "    <tr style=\"text-align: right;\">\n",
       "      <th></th>\n",
       "      <th>Make</th>\n",
       "      <th>Model</th>\n",
       "      <th>Year</th>\n",
       "      <th>Engine Fuel Type</th>\n",
       "      <th>Engine HP</th>\n",
       "      <th>Engine Cylinders</th>\n",
       "      <th>Transmission Type</th>\n",
       "      <th>Driven_Wheels</th>\n",
       "      <th>Number of Doors</th>\n",
       "      <th>Vehicle Size</th>\n",
       "      <th>Vehicle Style</th>\n",
       "      <th>highway MPG</th>\n",
       "      <th>city mpg</th>\n",
       "      <th>Popularity</th>\n",
       "      <th>year of manufacture</th>\n",
       "    </tr>\n",
       "  </thead>\n",
       "  <tbody>\n",
       "    <tr>\n",
       "      <th>10938</th>\n",
       "      <td>Toyota</td>\n",
       "      <td>37820.886320</td>\n",
       "      <td>2015</td>\n",
       "      <td>flex-fuel (unleaded/E85)</td>\n",
       "      <td>381.0</td>\n",
       "      <td>8.0</td>\n",
       "      <td>AUTOMATIC</td>\n",
       "      <td>four wheel drive</td>\n",
       "      <td>4.0</td>\n",
       "      <td>Large</td>\n",
       "      <td>Extended Cab Pickup</td>\n",
       "      <td>17</td>\n",
       "      <td>13</td>\n",
       "      <td>2031</td>\n",
       "      <td>6</td>\n",
       "    </tr>\n",
       "    <tr>\n",
       "      <th>1223</th>\n",
       "      <td>Honda</td>\n",
       "      <td>28047.497942</td>\n",
       "      <td>2015</td>\n",
       "      <td>regular unleaded</td>\n",
       "      <td>185.0</td>\n",
       "      <td>4.0</td>\n",
       "      <td>AUTOMATIC</td>\n",
       "      <td>front wheel drive</td>\n",
       "      <td>4.0</td>\n",
       "      <td>Midsize</td>\n",
       "      <td>Sedan</td>\n",
       "      <td>36</td>\n",
       "      <td>27</td>\n",
       "      <td>2202</td>\n",
       "      <td>6</td>\n",
       "    </tr>\n",
       "    <tr>\n",
       "      <th>472</th>\n",
       "      <td>Ferrari</td>\n",
       "      <td>88197.699767</td>\n",
       "      <td>2015</td>\n",
       "      <td>premium unleaded (required)</td>\n",
       "      <td>562.0</td>\n",
       "      <td>8.0</td>\n",
       "      <td>AUTOMATED_MANUAL</td>\n",
       "      <td>rear wheel drive</td>\n",
       "      <td>2.0</td>\n",
       "      <td>Compact</td>\n",
       "      <td>Convertible</td>\n",
       "      <td>17</td>\n",
       "      <td>13</td>\n",
       "      <td>2774</td>\n",
       "      <td>6</td>\n",
       "    </tr>\n",
       "    <tr>\n",
       "      <th>8150</th>\n",
       "      <td>Dodge</td>\n",
       "      <td>31224.199483</td>\n",
       "      <td>2008</td>\n",
       "      <td>regular unleaded</td>\n",
       "      <td>310.0</td>\n",
       "      <td>8.0</td>\n",
       "      <td>MANUAL</td>\n",
       "      <td>four wheel drive</td>\n",
       "      <td>4.0</td>\n",
       "      <td>Large</td>\n",
       "      <td>Crew Cab Pickup</td>\n",
       "      <td>16</td>\n",
       "      <td>12</td>\n",
       "      <td>1851</td>\n",
       "      <td>13</td>\n",
       "    </tr>\n",
       "    <tr>\n",
       "      <th>2038</th>\n",
       "      <td>Ford</td>\n",
       "      <td>32758.239792</td>\n",
       "      <td>1996</td>\n",
       "      <td>regular unleaded</td>\n",
       "      <td>199.0</td>\n",
       "      <td>8.0</td>\n",
       "      <td>MANUAL</td>\n",
       "      <td>four wheel drive</td>\n",
       "      <td>2.0</td>\n",
       "      <td>Midsize</td>\n",
       "      <td>2dr SUV</td>\n",
       "      <td>16</td>\n",
       "      <td>13</td>\n",
       "      <td>5657</td>\n",
       "      <td>25</td>\n",
       "    </tr>\n",
       "  </tbody>\n",
       "</table>\n",
       "</div>"
      ],
      "text/plain": [
       "          Make         Model  Year             Engine Fuel Type  Engine HP  \\\n",
       "10938   Toyota  37820.886320  2015     flex-fuel (unleaded/E85)      381.0   \n",
       "1223     Honda  28047.497942  2015             regular unleaded      185.0   \n",
       "472    Ferrari  88197.699767  2015  premium unleaded (required)      562.0   \n",
       "8150     Dodge  31224.199483  2008             regular unleaded      310.0   \n",
       "2038      Ford  32758.239792  1996             regular unleaded      199.0   \n",
       "\n",
       "       Engine Cylinders Transmission Type      Driven_Wheels  Number of Doors  \\\n",
       "10938               8.0         AUTOMATIC   four wheel drive              4.0   \n",
       "1223                4.0         AUTOMATIC  front wheel drive              4.0   \n",
       "472                 8.0  AUTOMATED_MANUAL   rear wheel drive              2.0   \n",
       "8150                8.0            MANUAL   four wheel drive              4.0   \n",
       "2038                8.0            MANUAL   four wheel drive              2.0   \n",
       "\n",
       "      Vehicle Size        Vehicle Style  highway MPG  city mpg  Popularity  \\\n",
       "10938        Large  Extended Cab Pickup           17        13        2031   \n",
       "1223       Midsize                Sedan           36        27        2202   \n",
       "472        Compact          Convertible           17        13        2774   \n",
       "8150         Large      Crew Cab Pickup           16        12        1851   \n",
       "2038       Midsize              2dr SUV           16        13        5657   \n",
       "\n",
       "       year of manufacture  \n",
       "10938                    6  \n",
       "1223                     6  \n",
       "472                      6  \n",
       "8150                    13  \n",
       "2038                    25  "
      ]
     },
     "execution_count": 81,
     "metadata": {},
     "output_type": "execute_result"
    }
   ],
   "source": [
    "X_train.head()"
   ]
  },
  {
   "cell_type": "code",
   "execution_count": 82,
   "id": "fab26bab",
   "metadata": {},
   "outputs": [
    {
     "data": {
      "text/html": [
       "<div>\n",
       "<style scoped>\n",
       "    .dataframe tbody tr th:only-of-type {\n",
       "        vertical-align: middle;\n",
       "    }\n",
       "\n",
       "    .dataframe tbody tr th {\n",
       "        vertical-align: top;\n",
       "    }\n",
       "\n",
       "    .dataframe thead th {\n",
       "        text-align: right;\n",
       "    }\n",
       "</style>\n",
       "<table border=\"1\" class=\"dataframe\">\n",
       "  <thead>\n",
       "    <tr style=\"text-align: right;\">\n",
       "      <th></th>\n",
       "      <th>Make</th>\n",
       "      <th>Model</th>\n",
       "      <th>Year</th>\n",
       "      <th>Engine Fuel Type</th>\n",
       "      <th>Engine HP</th>\n",
       "      <th>Engine Cylinders</th>\n",
       "      <th>Transmission Type</th>\n",
       "      <th>Driven_Wheels</th>\n",
       "      <th>Number of Doors</th>\n",
       "      <th>Vehicle Size</th>\n",
       "      <th>Vehicle Style</th>\n",
       "      <th>highway MPG</th>\n",
       "      <th>city mpg</th>\n",
       "      <th>Popularity</th>\n",
       "      <th>year of manufacture</th>\n",
       "    </tr>\n",
       "  </thead>\n",
       "  <tbody>\n",
       "    <tr>\n",
       "      <th>1451</th>\n",
       "      <td>Nissan</td>\n",
       "      <td>44183.150637</td>\n",
       "      <td>42214.467464</td>\n",
       "      <td>regular unleaded</td>\n",
       "      <td>390.0</td>\n",
       "      <td>8.0</td>\n",
       "      <td>AUTOMATIC</td>\n",
       "      <td>four wheel drive</td>\n",
       "      <td>4.0</td>\n",
       "      <td>Large</td>\n",
       "      <td>4dr SUV</td>\n",
       "      <td>18</td>\n",
       "      <td>13</td>\n",
       "      <td>2009</td>\n",
       "      <td>4</td>\n",
       "    </tr>\n",
       "    <tr>\n",
       "      <th>5801</th>\n",
       "      <td>Acura</td>\n",
       "      <td>37575.576921</td>\n",
       "      <td>47425.389850</td>\n",
       "      <td>premium unleaded (recommended)</td>\n",
       "      <td>150.0</td>\n",
       "      <td>4.0</td>\n",
       "      <td>AUTOMATIC</td>\n",
       "      <td>front wheel drive</td>\n",
       "      <td>4.0</td>\n",
       "      <td>Compact</td>\n",
       "      <td>Sedan</td>\n",
       "      <td>35</td>\n",
       "      <td>24</td>\n",
       "      <td>204</td>\n",
       "      <td>6</td>\n",
       "    </tr>\n",
       "    <tr>\n",
       "      <th>4820</th>\n",
       "      <td>Suzuki</td>\n",
       "      <td>24416.230459</td>\n",
       "      <td>34327.714286</td>\n",
       "      <td>regular unleaded</td>\n",
       "      <td>127.0</td>\n",
       "      <td>4.0</td>\n",
       "      <td>AUTOMATIC</td>\n",
       "      <td>front wheel drive</td>\n",
       "      <td>4.0</td>\n",
       "      <td>Compact</td>\n",
       "      <td>Wagon</td>\n",
       "      <td>27</td>\n",
       "      <td>19</td>\n",
       "      <td>481</td>\n",
       "      <td>14</td>\n",
       "    </tr>\n",
       "    <tr>\n",
       "      <th>11756</th>\n",
       "      <td>Nissan</td>\n",
       "      <td>35936.653312</td>\n",
       "      <td>65987.550420</td>\n",
       "      <td>regular unleaded</td>\n",
       "      <td>261.0</td>\n",
       "      <td>6.0</td>\n",
       "      <td>AUTOMATIC</td>\n",
       "      <td>rear wheel drive</td>\n",
       "      <td>4.0</td>\n",
       "      <td>Midsize</td>\n",
       "      <td>4dr SUV</td>\n",
       "      <td>22</td>\n",
       "      <td>16</td>\n",
       "      <td>2009</td>\n",
       "      <td>7</td>\n",
       "    </tr>\n",
       "    <tr>\n",
       "      <th>6854</th>\n",
       "      <td>Lincoln</td>\n",
       "      <td>40688.341903</td>\n",
       "      <td>42214.467464</td>\n",
       "      <td>regular unleaded</td>\n",
       "      <td>240.0</td>\n",
       "      <td>4.0</td>\n",
       "      <td>AUTOMATIC</td>\n",
       "      <td>all wheel drive</td>\n",
       "      <td>4.0</td>\n",
       "      <td>Compact</td>\n",
       "      <td>4dr SUV</td>\n",
       "      <td>25</td>\n",
       "      <td>19</td>\n",
       "      <td>61</td>\n",
       "      <td>4</td>\n",
       "    </tr>\n",
       "  </tbody>\n",
       "</table>\n",
       "</div>"
      ],
      "text/plain": [
       "          Make         Model          Year                Engine Fuel Type  \\\n",
       "1451    Nissan  44183.150637  42214.467464                regular unleaded   \n",
       "5801     Acura  37575.576921  47425.389850  premium unleaded (recommended)   \n",
       "4820    Suzuki  24416.230459  34327.714286                regular unleaded   \n",
       "11756   Nissan  35936.653312  65987.550420                regular unleaded   \n",
       "6854   Lincoln  40688.341903  42214.467464                regular unleaded   \n",
       "\n",
       "       Engine HP  Engine Cylinders Transmission Type      Driven_Wheels  \\\n",
       "1451       390.0               8.0         AUTOMATIC   four wheel drive   \n",
       "5801       150.0               4.0         AUTOMATIC  front wheel drive   \n",
       "4820       127.0               4.0         AUTOMATIC  front wheel drive   \n",
       "11756      261.0               6.0         AUTOMATIC   rear wheel drive   \n",
       "6854       240.0               4.0         AUTOMATIC    all wheel drive   \n",
       "\n",
       "       Number of Doors Vehicle Size Vehicle Style  highway MPG  city mpg  \\\n",
       "1451               4.0        Large       4dr SUV           18        13   \n",
       "5801               4.0      Compact         Sedan           35        24   \n",
       "4820               4.0      Compact         Wagon           27        19   \n",
       "11756              4.0      Midsize       4dr SUV           22        16   \n",
       "6854               4.0      Compact       4dr SUV           25        19   \n",
       "\n",
       "       Popularity  year of manufacture  \n",
       "1451         2009                    4  \n",
       "5801          204                    6  \n",
       "4820          481                   14  \n",
       "11756        2009                    7  \n",
       "6854           61                    4  "
      ]
     },
     "execution_count": 82,
     "metadata": {},
     "output_type": "execute_result"
    }
   ],
   "source": [
    "X_test.head()"
   ]
  },
  {
   "cell_type": "code",
   "execution_count": 83,
   "id": "da8bb0ed",
   "metadata": {},
   "outputs": [],
   "source": [
    "encoder = TargetEncoder(cols='Make')\n",
    "encoder.fit(X_train['Make'], y_train.to_frame()['MSRP'])\n",
    "X_train['Make'] = encoder.transform(X_train['Make'])\n",
    "X_test['Make'] = encoder.transform(X_test['Make'])"
   ]
  },
  {
   "cell_type": "code",
   "execution_count": 84,
   "id": "fa1cf3bb",
   "metadata": {},
   "outputs": [
    {
     "data": {
      "text/html": [
       "<div>\n",
       "<style scoped>\n",
       "    .dataframe tbody tr th:only-of-type {\n",
       "        vertical-align: middle;\n",
       "    }\n",
       "\n",
       "    .dataframe tbody tr th {\n",
       "        vertical-align: top;\n",
       "    }\n",
       "\n",
       "    .dataframe thead th {\n",
       "        text-align: right;\n",
       "    }\n",
       "</style>\n",
       "<table border=\"1\" class=\"dataframe\">\n",
       "  <thead>\n",
       "    <tr style=\"text-align: right;\">\n",
       "      <th></th>\n",
       "      <th>Make</th>\n",
       "      <th>Model</th>\n",
       "      <th>Year</th>\n",
       "      <th>Engine Fuel Type</th>\n",
       "      <th>Engine HP</th>\n",
       "      <th>Engine Cylinders</th>\n",
       "      <th>Transmission Type</th>\n",
       "      <th>Driven_Wheels</th>\n",
       "      <th>Number of Doors</th>\n",
       "      <th>Vehicle Size</th>\n",
       "      <th>Vehicle Style</th>\n",
       "      <th>highway MPG</th>\n",
       "      <th>city mpg</th>\n",
       "      <th>Popularity</th>\n",
       "      <th>year of manufacture</th>\n",
       "    </tr>\n",
       "  </thead>\n",
       "  <tbody>\n",
       "    <tr>\n",
       "      <th>10938</th>\n",
       "      <td>28920.700168</td>\n",
       "      <td>37820.886320</td>\n",
       "      <td>2015</td>\n",
       "      <td>flex-fuel (unleaded/E85)</td>\n",
       "      <td>381.0</td>\n",
       "      <td>8.0</td>\n",
       "      <td>AUTOMATIC</td>\n",
       "      <td>four wheel drive</td>\n",
       "      <td>4.0</td>\n",
       "      <td>Large</td>\n",
       "      <td>Extended Cab Pickup</td>\n",
       "      <td>17</td>\n",
       "      <td>13</td>\n",
       "      <td>2031</td>\n",
       "      <td>6</td>\n",
       "    </tr>\n",
       "    <tr>\n",
       "      <th>1223</th>\n",
       "      <td>26960.299728</td>\n",
       "      <td>28047.497942</td>\n",
       "      <td>2015</td>\n",
       "      <td>regular unleaded</td>\n",
       "      <td>185.0</td>\n",
       "      <td>4.0</td>\n",
       "      <td>AUTOMATIC</td>\n",
       "      <td>front wheel drive</td>\n",
       "      <td>4.0</td>\n",
       "      <td>Midsize</td>\n",
       "      <td>Sedan</td>\n",
       "      <td>36</td>\n",
       "      <td>27</td>\n",
       "      <td>2202</td>\n",
       "      <td>6</td>\n",
       "    </tr>\n",
       "    <tr>\n",
       "      <th>472</th>\n",
       "      <td>233388.362561</td>\n",
       "      <td>88197.699767</td>\n",
       "      <td>2015</td>\n",
       "      <td>premium unleaded (required)</td>\n",
       "      <td>562.0</td>\n",
       "      <td>8.0</td>\n",
       "      <td>AUTOMATED_MANUAL</td>\n",
       "      <td>rear wheel drive</td>\n",
       "      <td>2.0</td>\n",
       "      <td>Compact</td>\n",
       "      <td>Convertible</td>\n",
       "      <td>17</td>\n",
       "      <td>13</td>\n",
       "      <td>2774</td>\n",
       "      <td>6</td>\n",
       "    </tr>\n",
       "    <tr>\n",
       "      <th>8150</th>\n",
       "      <td>22283.702429</td>\n",
       "      <td>31224.199483</td>\n",
       "      <td>2008</td>\n",
       "      <td>regular unleaded</td>\n",
       "      <td>310.0</td>\n",
       "      <td>8.0</td>\n",
       "      <td>MANUAL</td>\n",
       "      <td>four wheel drive</td>\n",
       "      <td>4.0</td>\n",
       "      <td>Large</td>\n",
       "      <td>Crew Cab Pickup</td>\n",
       "      <td>16</td>\n",
       "      <td>12</td>\n",
       "      <td>1851</td>\n",
       "      <td>13</td>\n",
       "    </tr>\n",
       "    <tr>\n",
       "      <th>2038</th>\n",
       "      <td>27017.591040</td>\n",
       "      <td>32758.239792</td>\n",
       "      <td>1996</td>\n",
       "      <td>regular unleaded</td>\n",
       "      <td>199.0</td>\n",
       "      <td>8.0</td>\n",
       "      <td>MANUAL</td>\n",
       "      <td>four wheel drive</td>\n",
       "      <td>2.0</td>\n",
       "      <td>Midsize</td>\n",
       "      <td>2dr SUV</td>\n",
       "      <td>16</td>\n",
       "      <td>13</td>\n",
       "      <td>5657</td>\n",
       "      <td>25</td>\n",
       "    </tr>\n",
       "  </tbody>\n",
       "</table>\n",
       "</div>"
      ],
      "text/plain": [
       "                Make         Model  Year             Engine Fuel Type  \\\n",
       "10938   28920.700168  37820.886320  2015     flex-fuel (unleaded/E85)   \n",
       "1223    26960.299728  28047.497942  2015             regular unleaded   \n",
       "472    233388.362561  88197.699767  2015  premium unleaded (required)   \n",
       "8150    22283.702429  31224.199483  2008             regular unleaded   \n",
       "2038    27017.591040  32758.239792  1996             regular unleaded   \n",
       "\n",
       "       Engine HP  Engine Cylinders Transmission Type      Driven_Wheels  \\\n",
       "10938      381.0               8.0         AUTOMATIC   four wheel drive   \n",
       "1223       185.0               4.0         AUTOMATIC  front wheel drive   \n",
       "472        562.0               8.0  AUTOMATED_MANUAL   rear wheel drive   \n",
       "8150       310.0               8.0            MANUAL   four wheel drive   \n",
       "2038       199.0               8.0            MANUAL   four wheel drive   \n",
       "\n",
       "       Number of Doors Vehicle Size        Vehicle Style  highway MPG  \\\n",
       "10938              4.0        Large  Extended Cab Pickup           17   \n",
       "1223               4.0      Midsize                Sedan           36   \n",
       "472                2.0      Compact          Convertible           17   \n",
       "8150               4.0        Large      Crew Cab Pickup           16   \n",
       "2038               2.0      Midsize              2dr SUV           16   \n",
       "\n",
       "       city mpg  Popularity  year of manufacture  \n",
       "10938        13        2031                    6  \n",
       "1223         27        2202                    6  \n",
       "472          13        2774                    6  \n",
       "8150         12        1851                   13  \n",
       "2038         13        5657                   25  "
      ]
     },
     "execution_count": 84,
     "metadata": {},
     "output_type": "execute_result"
    }
   ],
   "source": [
    "X_train.head()"
   ]
  },
  {
   "cell_type": "code",
   "execution_count": 85,
   "id": "3f024cae",
   "metadata": {},
   "outputs": [
    {
     "data": {
      "text/html": [
       "<div>\n",
       "<style scoped>\n",
       "    .dataframe tbody tr th:only-of-type {\n",
       "        vertical-align: middle;\n",
       "    }\n",
       "\n",
       "    .dataframe tbody tr th {\n",
       "        vertical-align: top;\n",
       "    }\n",
       "\n",
       "    .dataframe thead th {\n",
       "        text-align: right;\n",
       "    }\n",
       "</style>\n",
       "<table border=\"1\" class=\"dataframe\">\n",
       "  <thead>\n",
       "    <tr style=\"text-align: right;\">\n",
       "      <th></th>\n",
       "      <th>Make</th>\n",
       "      <th>Model</th>\n",
       "      <th>Year</th>\n",
       "      <th>Engine Fuel Type</th>\n",
       "      <th>Engine HP</th>\n",
       "      <th>Engine Cylinders</th>\n",
       "      <th>Transmission Type</th>\n",
       "      <th>Driven_Wheels</th>\n",
       "      <th>Number of Doors</th>\n",
       "      <th>Vehicle Size</th>\n",
       "      <th>Vehicle Style</th>\n",
       "      <th>highway MPG</th>\n",
       "      <th>city mpg</th>\n",
       "      <th>Popularity</th>\n",
       "      <th>year of manufacture</th>\n",
       "    </tr>\n",
       "  </thead>\n",
       "  <tbody>\n",
       "    <tr>\n",
       "      <th>1451</th>\n",
       "      <td>28829.728070</td>\n",
       "      <td>44183.150637</td>\n",
       "      <td>42214.467464</td>\n",
       "      <td>regular unleaded</td>\n",
       "      <td>390.0</td>\n",
       "      <td>8.0</td>\n",
       "      <td>AUTOMATIC</td>\n",
       "      <td>four wheel drive</td>\n",
       "      <td>4.0</td>\n",
       "      <td>Large</td>\n",
       "      <td>4dr SUV</td>\n",
       "      <td>18</td>\n",
       "      <td>13</td>\n",
       "      <td>2009</td>\n",
       "      <td>4</td>\n",
       "    </tr>\n",
       "    <tr>\n",
       "      <th>5801</th>\n",
       "      <td>35165.339854</td>\n",
       "      <td>37575.576921</td>\n",
       "      <td>47425.389850</td>\n",
       "      <td>premium unleaded (recommended)</td>\n",
       "      <td>150.0</td>\n",
       "      <td>4.0</td>\n",
       "      <td>AUTOMATIC</td>\n",
       "      <td>front wheel drive</td>\n",
       "      <td>4.0</td>\n",
       "      <td>Compact</td>\n",
       "      <td>Sedan</td>\n",
       "      <td>35</td>\n",
       "      <td>24</td>\n",
       "      <td>204</td>\n",
       "      <td>6</td>\n",
       "    </tr>\n",
       "    <tr>\n",
       "      <th>4820</th>\n",
       "      <td>17768.379562</td>\n",
       "      <td>24416.230459</td>\n",
       "      <td>34327.714286</td>\n",
       "      <td>regular unleaded</td>\n",
       "      <td>127.0</td>\n",
       "      <td>4.0</td>\n",
       "      <td>AUTOMATIC</td>\n",
       "      <td>front wheel drive</td>\n",
       "      <td>4.0</td>\n",
       "      <td>Compact</td>\n",
       "      <td>Wagon</td>\n",
       "      <td>27</td>\n",
       "      <td>19</td>\n",
       "      <td>481</td>\n",
       "      <td>14</td>\n",
       "    </tr>\n",
       "    <tr>\n",
       "      <th>11756</th>\n",
       "      <td>28829.728070</td>\n",
       "      <td>35936.653312</td>\n",
       "      <td>65987.550420</td>\n",
       "      <td>regular unleaded</td>\n",
       "      <td>261.0</td>\n",
       "      <td>6.0</td>\n",
       "      <td>AUTOMATIC</td>\n",
       "      <td>rear wheel drive</td>\n",
       "      <td>4.0</td>\n",
       "      <td>Midsize</td>\n",
       "      <td>4dr SUV</td>\n",
       "      <td>22</td>\n",
       "      <td>16</td>\n",
       "      <td>2009</td>\n",
       "      <td>7</td>\n",
       "    </tr>\n",
       "    <tr>\n",
       "      <th>6854</th>\n",
       "      <td>43342.586926</td>\n",
       "      <td>40688.341903</td>\n",
       "      <td>42214.467464</td>\n",
       "      <td>regular unleaded</td>\n",
       "      <td>240.0</td>\n",
       "      <td>4.0</td>\n",
       "      <td>AUTOMATIC</td>\n",
       "      <td>all wheel drive</td>\n",
       "      <td>4.0</td>\n",
       "      <td>Compact</td>\n",
       "      <td>4dr SUV</td>\n",
       "      <td>25</td>\n",
       "      <td>19</td>\n",
       "      <td>61</td>\n",
       "      <td>4</td>\n",
       "    </tr>\n",
       "  </tbody>\n",
       "</table>\n",
       "</div>"
      ],
      "text/plain": [
       "               Make         Model          Year  \\\n",
       "1451   28829.728070  44183.150637  42214.467464   \n",
       "5801   35165.339854  37575.576921  47425.389850   \n",
       "4820   17768.379562  24416.230459  34327.714286   \n",
       "11756  28829.728070  35936.653312  65987.550420   \n",
       "6854   43342.586926  40688.341903  42214.467464   \n",
       "\n",
       "                     Engine Fuel Type  Engine HP  Engine Cylinders  \\\n",
       "1451                 regular unleaded      390.0               8.0   \n",
       "5801   premium unleaded (recommended)      150.0               4.0   \n",
       "4820                 regular unleaded      127.0               4.0   \n",
       "11756                regular unleaded      261.0               6.0   \n",
       "6854                 regular unleaded      240.0               4.0   \n",
       "\n",
       "      Transmission Type      Driven_Wheels  Number of Doors Vehicle Size  \\\n",
       "1451          AUTOMATIC   four wheel drive              4.0        Large   \n",
       "5801          AUTOMATIC  front wheel drive              4.0      Compact   \n",
       "4820          AUTOMATIC  front wheel drive              4.0      Compact   \n",
       "11756         AUTOMATIC   rear wheel drive              4.0      Midsize   \n",
       "6854          AUTOMATIC    all wheel drive              4.0      Compact   \n",
       "\n",
       "      Vehicle Style  highway MPG  city mpg  Popularity  year of manufacture  \n",
       "1451        4dr SUV           18        13        2009                    4  \n",
       "5801          Sedan           35        24         204                    6  \n",
       "4820          Wagon           27        19         481                   14  \n",
       "11756       4dr SUV           22        16        2009                    7  \n",
       "6854        4dr SUV           25        19          61                    4  "
      ]
     },
     "execution_count": 85,
     "metadata": {},
     "output_type": "execute_result"
    }
   ],
   "source": [
    "X_test.head()"
   ]
  },
  {
   "cell_type": "code",
   "execution_count": null,
   "id": "ef7e95e4",
   "metadata": {},
   "outputs": [],
   "source": []
  },
  {
   "cell_type": "markdown",
   "id": "23ec0fff",
   "metadata": {},
   "source": [
    "### one hot encoding"
   ]
  },
  {
   "cell_type": "code",
   "execution_count": 86,
   "id": "7f2829e9",
   "metadata": {},
   "outputs": [
    {
     "data": {
      "text/plain": [
       "array(['premium unleaded (required)', 'regular unleaded',\n",
       "       'premium unleaded (recommended)', 'flex-fuel (unleaded/E85)',\n",
       "       'diesel', 'electric',\n",
       "       'flex-fuel (premium unleaded recommended/E85)', 'natural gas',\n",
       "       'flex-fuel (premium unleaded required/E85)',\n",
       "       'flex-fuel (unleaded/natural gas)', \"df['Engine Fuel Type']\"],\n",
       "      dtype=object)"
      ]
     },
     "execution_count": 86,
     "metadata": {},
     "output_type": "execute_result"
    }
   ],
   "source": [
    "df['Engine Fuel Type'].unique()"
   ]
  },
  {
   "cell_type": "code",
   "execution_count": 87,
   "id": "f000a79f",
   "metadata": {},
   "outputs": [],
   "source": [
    "encoder = OneHotEncoder()\n",
    "encoder.fit(X_train[['Engine Fuel Type', 'Transmission Type', 'Driven_Wheels', 'Vehicle Size', 'Vehicle Style']])\n",
    "one_hot_encoded_output_train = encoder.transform(X_train[['Engine Fuel Type', 'Transmission Type', 'Driven_Wheels', 'Vehicle Size', 'Vehicle Style']])\n",
    "one_hot_encoded_output_test = encoder.transform(X_test[['Engine Fuel Type', 'Transmission Type', 'Driven_Wheels', 'Vehicle Size', 'Vehicle Style']])\n"
   ]
  },
  {
   "cell_type": "code",
   "execution_count": 88,
   "id": "7a225dbe",
   "metadata": {},
   "outputs": [],
   "source": [
    "X_train = pd.concat([X_train, one_hot_encoded_output_train], axis=1)\n",
    "X_test = pd.concat([X_test, one_hot_encoded_output_test], axis=1)"
   ]
  },
  {
   "cell_type": "code",
   "execution_count": null,
   "id": "29458525",
   "metadata": {},
   "outputs": [],
   "source": []
  },
  {
   "cell_type": "code",
   "execution_count": null,
   "id": "2b569826",
   "metadata": {},
   "outputs": [],
   "source": []
  },
  {
   "cell_type": "code",
   "execution_count": 89,
   "id": "6574943a",
   "metadata": {},
   "outputs": [],
   "source": [
    "X_train.drop(['Engine Fuel Type', 'Transmission Type', 'Driven_Wheels', 'Vehicle Size', 'Vehicle Style'], axis = 1, inplace = True)\n",
    "X_test.drop(['Engine Fuel Type', 'Transmission Type', 'Driven_Wheels', 'Vehicle Size', 'Vehicle Style'], axis = 1, inplace = True)\n"
   ]
  },
  {
   "cell_type": "code",
   "execution_count": 91,
   "id": "d35aa2ac",
   "metadata": {},
   "outputs": [
    {
     "name": "stdout",
     "output_type": "stream",
     "text": [
      "<class 'pandas.core.frame.DataFrame'>\n",
      "Int64Index: 9531 entries, 10938 to 2278\n",
      "Data columns (total 49 columns):\n",
      " #   Column               Non-Null Count  Dtype  \n",
      "---  ------               --------------  -----  \n",
      " 0   Make                 9531 non-null   float64\n",
      " 1   Model                9531 non-null   float64\n",
      " 2   Year                 9531 non-null   int64  \n",
      " 3   Engine HP            9531 non-null   float64\n",
      " 4   Engine Cylinders     9531 non-null   float64\n",
      " 5   Number of Doors      9531 non-null   float64\n",
      " 6   highway MPG          9531 non-null   int64  \n",
      " 7   city mpg             9531 non-null   int64  \n",
      " 8   Popularity           9531 non-null   int64  \n",
      " 9   year of manufacture  9531 non-null   int64  \n",
      " 10  Engine Fuel Type_1   9531 non-null   int64  \n",
      " 11  Engine Fuel Type_2   9531 non-null   int64  \n",
      " 12  Engine Fuel Type_3   9531 non-null   int64  \n",
      " 13  Engine Fuel Type_4   9531 non-null   int64  \n",
      " 14  Engine Fuel Type_5   9531 non-null   int64  \n",
      " 15  Engine Fuel Type_6   9531 non-null   int64  \n",
      " 16  Engine Fuel Type_7   9531 non-null   int64  \n",
      " 17  Engine Fuel Type_8   9531 non-null   int64  \n",
      " 18  Engine Fuel Type_9   9531 non-null   int64  \n",
      " 19  Engine Fuel Type_10  9531 non-null   int64  \n",
      " 20  Engine Fuel Type_11  9531 non-null   int64  \n",
      " 21  Transmission Type_1  9531 non-null   int64  \n",
      " 22  Transmission Type_2  9531 non-null   int64  \n",
      " 23  Transmission Type_3  9531 non-null   int64  \n",
      " 24  Transmission Type_4  9531 non-null   int64  \n",
      " 25  Transmission Type_5  9531 non-null   int64  \n",
      " 26  Driven_Wheels_1      9531 non-null   int64  \n",
      " 27  Driven_Wheels_2      9531 non-null   int64  \n",
      " 28  Driven_Wheels_3      9531 non-null   int64  \n",
      " 29  Driven_Wheels_4      9531 non-null   int64  \n",
      " 30  Vehicle Size_1       9531 non-null   int64  \n",
      " 31  Vehicle Size_2       9531 non-null   int64  \n",
      " 32  Vehicle Size_3       9531 non-null   int64  \n",
      " 33  Vehicle Style_1      9531 non-null   int64  \n",
      " 34  Vehicle Style_2      9531 non-null   int64  \n",
      " 35  Vehicle Style_3      9531 non-null   int64  \n",
      " 36  Vehicle Style_4      9531 non-null   int64  \n",
      " 37  Vehicle Style_5      9531 non-null   int64  \n",
      " 38  Vehicle Style_6      9531 non-null   int64  \n",
      " 39  Vehicle Style_7      9531 non-null   int64  \n",
      " 40  Vehicle Style_8      9531 non-null   int64  \n",
      " 41  Vehicle Style_9      9531 non-null   int64  \n",
      " 42  Vehicle Style_10     9531 non-null   int64  \n",
      " 43  Vehicle Style_11     9531 non-null   int64  \n",
      " 44  Vehicle Style_12     9531 non-null   int64  \n",
      " 45  Vehicle Style_13     9531 non-null   int64  \n",
      " 46  Vehicle Style_14     9531 non-null   int64  \n",
      " 47  Vehicle Style_15     9531 non-null   int64  \n",
      " 48  Vehicle Style_16     9531 non-null   int64  \n",
      "dtypes: float64(5), int64(44)\n",
      "memory usage: 3.6 MB\n"
     ]
    }
   ],
   "source": [
    "X_train.info()"
   ]
  },
  {
   "cell_type": "markdown",
   "id": "22610fa1",
   "metadata": {},
   "source": [
    "### standardization and normalization "
   ]
  },
  {
   "cell_type": "code",
   "execution_count": 94,
   "id": "0be0d7c8",
   "metadata": {},
   "outputs": [],
   "source": [
    "scaler = MinMaxScaler()\n",
    "scaler.fit(X_train)\n",
    "scaler_train_new = scaler.transform(X_train)\n",
    "scaler_test_new= scaler.transform(X_test)"
   ]
  },
  {
   "cell_type": "code",
   "execution_count": 95,
   "id": "60edb32c",
   "metadata": {},
   "outputs": [
    {
     "data": {
      "text/plain": [
       "(9531, 49)"
      ]
     },
     "execution_count": 95,
     "metadata": {},
     "output_type": "execute_result"
    }
   ],
   "source": [
    "scaler_train_new.shape"
   ]
  },
  {
   "cell_type": "code",
   "execution_count": 96,
   "id": "8e127fb1",
   "metadata": {},
   "outputs": [],
   "source": [
    "error_mean_square = []\n",
    "error_mean_absolute = []"
   ]
  },
  {
   "cell_type": "code",
   "execution_count": null,
   "id": "fec6c8ae",
   "metadata": {},
   "outputs": [],
   "source": []
  },
  {
   "cell_type": "markdown",
   "id": "067aa0e2",
   "metadata": {},
   "source": [
    "### machine learning analysis "
   ]
  },
  {
   "cell_type": "markdown",
   "id": "c6f58832",
   "metadata": {},
   "source": [
    "##### Linear Regression"
   ]
  },
  {
   "cell_type": "code",
   "execution_count": 98,
   "id": "6a31bafd",
   "metadata": {},
   "outputs": [],
   "source": [
    "from sklearn.linear_model import LinearRegression"
   ]
  },
  {
   "cell_type": "code",
   "execution_count": 99,
   "id": "9a61202a",
   "metadata": {},
   "outputs": [
    {
     "data": {
      "text/plain": [
       "LinearRegression()"
      ]
     },
     "execution_count": 99,
     "metadata": {},
     "output_type": "execute_result"
    }
   ],
   "source": [
    "model = LinearRegression()\n",
    "model.fit(scaler_train_new, y_train)"
   ]
  },
  {
   "cell_type": "code",
   "execution_count": 100,
   "id": "1884daff",
   "metadata": {},
   "outputs": [],
   "source": [
    "y_predict = model.predict(scaler_test_new)"
   ]
  },
  {
   "cell_type": "code",
   "execution_count": 101,
   "id": "6f69360a",
   "metadata": {},
   "outputs": [],
   "source": [
    "error_mean_square.append(int(mean_squared_error(y_predict, y_test)))\n",
    "error_mean_absolute.append(int(mean_absolute_error(y_predict, y_test)))"
   ]
  },
  {
   "cell_type": "code",
   "execution_count": 102,
   "id": "ca6717bb",
   "metadata": {},
   "outputs": [
    {
     "data": {
      "text/plain": [
       "[301685168757648326656]"
      ]
     },
     "execution_count": 102,
     "metadata": {},
     "output_type": "execute_result"
    }
   ],
   "source": [
    "error_mean_absolute"
   ]
  },
  {
   "cell_type": "code",
   "execution_count": 103,
   "id": "4e87dbd0",
   "metadata": {},
   "outputs": [
    {
     "data": {
      "text/plain": [
       "[109527409406041010353719801545763112091648]"
      ]
     },
     "execution_count": 103,
     "metadata": {},
     "output_type": "execute_result"
    }
   ],
   "source": [
    "error_mean_square"
   ]
  },
  {
   "cell_type": "code",
   "execution_count": 104,
   "id": "048e2c1f",
   "metadata": {},
   "outputs": [],
   "source": [
    "y_predict = pd.DataFrame(y_predict, columns = ['predicted output'])"
   ]
  },
  {
   "cell_type": "code",
   "execution_count": 105,
   "id": "5137313c",
   "metadata": {},
   "outputs": [
    {
     "data": {
      "text/html": [
       "<div>\n",
       "<style scoped>\n",
       "    .dataframe tbody tr th:only-of-type {\n",
       "        vertical-align: middle;\n",
       "    }\n",
       "\n",
       "    .dataframe tbody tr th {\n",
       "        vertical-align: top;\n",
       "    }\n",
       "\n",
       "    .dataframe thead th {\n",
       "        text-align: right;\n",
       "    }\n",
       "</style>\n",
       "<table border=\"1\" class=\"dataframe\">\n",
       "  <thead>\n",
       "    <tr style=\"text-align: right;\">\n",
       "      <th></th>\n",
       "      <th>predicted output</th>\n",
       "    </tr>\n",
       "  </thead>\n",
       "  <tbody>\n",
       "    <tr>\n",
       "      <th>0</th>\n",
       "      <td>3.174832e+20</td>\n",
       "    </tr>\n",
       "    <tr>\n",
       "      <th>1</th>\n",
       "      <td>3.586553e+20</td>\n",
       "    </tr>\n",
       "    <tr>\n",
       "      <th>2</th>\n",
       "      <td>2.552719e+20</td>\n",
       "    </tr>\n",
       "    <tr>\n",
       "      <th>3</th>\n",
       "      <td>5.052688e+20</td>\n",
       "    </tr>\n",
       "    <tr>\n",
       "      <th>4</th>\n",
       "      <td>3.174832e+20</td>\n",
       "    </tr>\n",
       "  </tbody>\n",
       "</table>\n",
       "</div>"
      ],
      "text/plain": [
       "   predicted output\n",
       "0      3.174832e+20\n",
       "1      3.586553e+20\n",
       "2      2.552719e+20\n",
       "3      5.052688e+20\n",
       "4      3.174832e+20"
      ]
     },
     "execution_count": 105,
     "metadata": {},
     "output_type": "execute_result"
    }
   ],
   "source": [
    "y_predict.head()"
   ]
  },
  {
   "cell_type": "code",
   "execution_count": null,
   "id": "88c3eb3f",
   "metadata": {},
   "outputs": [],
   "source": []
  }
 ],
 "metadata": {
  "kernelspec": {
   "display_name": "Python 3 (ipykernel)",
   "language": "python",
   "name": "python3"
  },
  "language_info": {
   "codemirror_mode": {
    "name": "ipython",
    "version": 3
   },
   "file_extension": ".py",
   "mimetype": "text/x-python",
   "name": "python",
   "nbconvert_exporter": "python",
   "pygments_lexer": "ipython3",
   "version": "3.9.12"
  }
 },
 "nbformat": 4,
 "nbformat_minor": 5
}
